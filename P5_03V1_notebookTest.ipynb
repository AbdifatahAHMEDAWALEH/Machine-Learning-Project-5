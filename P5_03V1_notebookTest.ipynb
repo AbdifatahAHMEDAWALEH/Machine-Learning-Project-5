{
 "cells": [
  {
   "cell_type": "code",
   "execution_count": 1,
   "id": "6d3ac78e",
   "metadata": {},
   "outputs": [],
   "source": [
    "\n",
    "import time\n",
    "import pandas as pd\n",
    "import nltk\n",
    "import matplotlib.pyplot as plt\n",
    "import numpy as np\n",
    "from nltk.corpus import stopwords\n",
    "from nltk.stem import *\n",
    "from nltk.stem.snowball import SnowballStemmer\n",
    "from nltk.stem import WordNetLemmatizer\n",
    "import joblib"
   ]
  },
  {
   "cell_type": "code",
   "execution_count": 2,
   "id": "9b4c8fba",
   "metadata": {},
   "outputs": [],
   "source": [
    "df = joblib.load('cleaned_data.sav')"
   ]
  },
  {
   "cell_type": "code",
   "execution_count": 3,
   "id": "46e4a902",
   "metadata": {},
   "outputs": [
    {
     "data": {
      "text/html": [
       "<div>\n",
       "<style scoped>\n",
       "    .dataframe tbody tr th:only-of-type {\n",
       "        vertical-align: middle;\n",
       "    }\n",
       "\n",
       "    .dataframe tbody tr th {\n",
       "        vertical-align: top;\n",
       "    }\n",
       "\n",
       "    .dataframe thead th {\n",
       "        text-align: right;\n",
       "    }\n",
       "</style>\n",
       "<table border=\"1\" class=\"dataframe\">\n",
       "  <thead>\n",
       "    <tr style=\"text-align: right;\">\n",
       "      <th></th>\n",
       "      <th>index</th>\n",
       "      <th>Id</th>\n",
       "      <th>Tags</th>\n",
       "      <th>Body</th>\n",
       "      <th>java</th>\n",
       "      <th>c#</th>\n",
       "      <th>javascript</th>\n",
       "      <th>python</th>\n",
       "      <th>jquery</th>\n",
       "      <th>html</th>\n",
       "      <th>...</th>\n",
       "      <th>regex</th>\n",
       "      <th>iphone</th>\n",
       "      <th>bash</th>\n",
       "      <th>objective-c</th>\n",
       "      <th>ios</th>\n",
       "      <th>windows</th>\n",
       "      <th>ruby</th>\n",
       "      <th>eclipse</th>\n",
       "      <th>tsql</th>\n",
       "      <th>database</th>\n",
       "    </tr>\n",
       "  </thead>\n",
       "  <tbody>\n",
       "    <tr>\n",
       "      <th>0</th>\n",
       "      <td>0</td>\n",
       "      <td>4</td>\n",
       "      <td>[c#]</td>\n",
       "      <td>convert decim doubl track bar form opac lang p...</td>\n",
       "      <td>0.0</td>\n",
       "      <td>1.0</td>\n",
       "      <td>0.0</td>\n",
       "      <td>0.0</td>\n",
       "      <td>0.0</td>\n",
       "      <td>0.0</td>\n",
       "      <td>...</td>\n",
       "      <td>0.0</td>\n",
       "      <td>0.0</td>\n",
       "      <td>0.0</td>\n",
       "      <td>0.0</td>\n",
       "      <td>0.0</td>\n",
       "      <td>0.0</td>\n",
       "      <td>0.0</td>\n",
       "      <td>0.0</td>\n",
       "      <td>0.0</td>\n",
       "      <td>0.0</td>\n",
       "    </tr>\n",
       "    <tr>\n",
       "      <th>1</th>\n",
       "      <td>1</td>\n",
       "      <td>9</td>\n",
       "      <td>[c#, .net]</td>\n",
       "      <td>calcul someon age base datetim birthday given ...</td>\n",
       "      <td>0.0</td>\n",
       "      <td>1.0</td>\n",
       "      <td>0.0</td>\n",
       "      <td>0.0</td>\n",
       "      <td>0.0</td>\n",
       "      <td>0.0</td>\n",
       "      <td>...</td>\n",
       "      <td>0.0</td>\n",
       "      <td>0.0</td>\n",
       "      <td>0.0</td>\n",
       "      <td>0.0</td>\n",
       "      <td>0.0</td>\n",
       "      <td>0.0</td>\n",
       "      <td>0.0</td>\n",
       "      <td>0.0</td>\n",
       "      <td>0.0</td>\n",
       "      <td>0.0</td>\n",
       "    </tr>\n",
       "    <tr>\n",
       "      <th>2</th>\n",
       "      <td>2</td>\n",
       "      <td>11</td>\n",
       "      <td>[c#]</td>\n",
       "      <td>calcul relat given specif datetim display rela...</td>\n",
       "      <td>0.0</td>\n",
       "      <td>1.0</td>\n",
       "      <td>0.0</td>\n",
       "      <td>0.0</td>\n",
       "      <td>0.0</td>\n",
       "      <td>0.0</td>\n",
       "      <td>...</td>\n",
       "      <td>0.0</td>\n",
       "      <td>0.0</td>\n",
       "      <td>0.0</td>\n",
       "      <td>0.0</td>\n",
       "      <td>0.0</td>\n",
       "      <td>0.0</td>\n",
       "      <td>0.0</td>\n",
       "      <td>0.0</td>\n",
       "      <td>0.0</td>\n",
       "      <td>0.0</td>\n",
       "    </tr>\n",
       "    <tr>\n",
       "      <th>3</th>\n",
       "      <td>3</td>\n",
       "      <td>16</td>\n",
       "      <td>[c#]</td>\n",
       "      <td>fill dataset datat linq queri result expo linq...</td>\n",
       "      <td>0.0</td>\n",
       "      <td>1.0</td>\n",
       "      <td>0.0</td>\n",
       "      <td>0.0</td>\n",
       "      <td>0.0</td>\n",
       "      <td>0.0</td>\n",
       "      <td>...</td>\n",
       "      <td>0.0</td>\n",
       "      <td>0.0</td>\n",
       "      <td>0.0</td>\n",
       "      <td>0.0</td>\n",
       "      <td>0.0</td>\n",
       "      <td>0.0</td>\n",
       "      <td>0.0</td>\n",
       "      <td>0.0</td>\n",
       "      <td>0.0</td>\n",
       "      <td>0.0</td>\n",
       "    </tr>\n",
       "    <tr>\n",
       "      <th>4</th>\n",
       "      <td>4</td>\n",
       "      <td>17</td>\n",
       "      <td>[mysql, database]</td>\n",
       "      <td>binari mysql store binari http en wikipedia wi...</td>\n",
       "      <td>0.0</td>\n",
       "      <td>0.0</td>\n",
       "      <td>0.0</td>\n",
       "      <td>0.0</td>\n",
       "      <td>0.0</td>\n",
       "      <td>0.0</td>\n",
       "      <td>...</td>\n",
       "      <td>0.0</td>\n",
       "      <td>0.0</td>\n",
       "      <td>0.0</td>\n",
       "      <td>0.0</td>\n",
       "      <td>0.0</td>\n",
       "      <td>0.0</td>\n",
       "      <td>0.0</td>\n",
       "      <td>0.0</td>\n",
       "      <td>0.0</td>\n",
       "      <td>1.0</td>\n",
       "    </tr>\n",
       "    <tr>\n",
       "      <th>...</th>\n",
       "      <td>...</td>\n",
       "      <td>...</td>\n",
       "      <td>...</td>\n",
       "      <td>...</td>\n",
       "      <td>...</td>\n",
       "      <td>...</td>\n",
       "      <td>...</td>\n",
       "      <td>...</td>\n",
       "      <td>...</td>\n",
       "      <td>...</td>\n",
       "      <td>...</td>\n",
       "      <td>...</td>\n",
       "      <td>...</td>\n",
       "      <td>...</td>\n",
       "      <td>...</td>\n",
       "      <td>...</td>\n",
       "      <td>...</td>\n",
       "      <td>...</td>\n",
       "      <td>...</td>\n",
       "      <td>...</td>\n",
       "      <td>...</td>\n",
       "    </tr>\n",
       "    <tr>\n",
       "      <th>41163</th>\n",
       "      <td>41163</td>\n",
       "      <td>8057565</td>\n",
       "      <td>[mysql]</td>\n",
       "      <td>mysql updat inner join queri idea problem mysq...</td>\n",
       "      <td>0.0</td>\n",
       "      <td>0.0</td>\n",
       "      <td>0.0</td>\n",
       "      <td>0.0</td>\n",
       "      <td>0.0</td>\n",
       "      <td>0.0</td>\n",
       "      <td>...</td>\n",
       "      <td>0.0</td>\n",
       "      <td>0.0</td>\n",
       "      <td>0.0</td>\n",
       "      <td>0.0</td>\n",
       "      <td>0.0</td>\n",
       "      <td>0.0</td>\n",
       "      <td>0.0</td>\n",
       "      <td>0.0</td>\n",
       "      <td>0.0</td>\n",
       "      <td>0.0</td>\n",
       "    </tr>\n",
       "    <tr>\n",
       "      <th>41164</th>\n",
       "      <td>41164</td>\n",
       "      <td>8054165</td>\n",
       "      <td>[html]</td>\n",
       "      <td>put form put form send form</td>\n",
       "      <td>0.0</td>\n",
       "      <td>0.0</td>\n",
       "      <td>0.0</td>\n",
       "      <td>0.0</td>\n",
       "      <td>0.0</td>\n",
       "      <td>1.0</td>\n",
       "      <td>...</td>\n",
       "      <td>0.0</td>\n",
       "      <td>0.0</td>\n",
       "      <td>0.0</td>\n",
       "      <td>0.0</td>\n",
       "      <td>0.0</td>\n",
       "      <td>0.0</td>\n",
       "      <td>0.0</td>\n",
       "      <td>0.0</td>\n",
       "      <td>0.0</td>\n",
       "      <td>0.0</td>\n",
       "    </tr>\n",
       "    <tr>\n",
       "      <th>41165</th>\n",
       "      <td>41165</td>\n",
       "      <td>8064691</td>\n",
       "      <td>[javascript, html]</td>\n",
       "      <td>pas along variabl xmlhttprequest send variabl ...</td>\n",
       "      <td>0.0</td>\n",
       "      <td>0.0</td>\n",
       "      <td>1.0</td>\n",
       "      <td>0.0</td>\n",
       "      <td>0.0</td>\n",
       "      <td>1.0</td>\n",
       "      <td>...</td>\n",
       "      <td>0.0</td>\n",
       "      <td>0.0</td>\n",
       "      <td>0.0</td>\n",
       "      <td>0.0</td>\n",
       "      <td>0.0</td>\n",
       "      <td>0.0</td>\n",
       "      <td>0.0</td>\n",
       "      <td>0.0</td>\n",
       "      <td>0.0</td>\n",
       "      <td>0.0</td>\n",
       "    </tr>\n",
       "    <tr>\n",
       "      <th>41166</th>\n",
       "      <td>41166</td>\n",
       "      <td>8057607</td>\n",
       "      <td>[java]</td>\n",
       "      <td>mock privat powermock still mock privat jndi u...</td>\n",
       "      <td>1.0</td>\n",
       "      <td>0.0</td>\n",
       "      <td>0.0</td>\n",
       "      <td>0.0</td>\n",
       "      <td>0.0</td>\n",
       "      <td>0.0</td>\n",
       "      <td>...</td>\n",
       "      <td>0.0</td>\n",
       "      <td>0.0</td>\n",
       "      <td>0.0</td>\n",
       "      <td>0.0</td>\n",
       "      <td>0.0</td>\n",
       "      <td>0.0</td>\n",
       "      <td>0.0</td>\n",
       "      <td>0.0</td>\n",
       "      <td>0.0</td>\n",
       "      <td>0.0</td>\n",
       "    </tr>\n",
       "    <tr>\n",
       "      <th>41167</th>\n",
       "      <td>41167</td>\n",
       "      <td>8067590</td>\n",
       "      <td>[javascript]</td>\n",
       "      <td>associ versus hash search googl folk recommend...</td>\n",
       "      <td>0.0</td>\n",
       "      <td>0.0</td>\n",
       "      <td>1.0</td>\n",
       "      <td>0.0</td>\n",
       "      <td>0.0</td>\n",
       "      <td>0.0</td>\n",
       "      <td>...</td>\n",
       "      <td>0.0</td>\n",
       "      <td>0.0</td>\n",
       "      <td>0.0</td>\n",
       "      <td>0.0</td>\n",
       "      <td>0.0</td>\n",
       "      <td>0.0</td>\n",
       "      <td>0.0</td>\n",
       "      <td>0.0</td>\n",
       "      <td>0.0</td>\n",
       "      <td>0.0</td>\n",
       "    </tr>\n",
       "  </tbody>\n",
       "</table>\n",
       "<p>41168 rows × 34 columns</p>\n",
       "</div>"
      ],
      "text/plain": [
       "       index       Id                Tags  \\\n",
       "0          0        4                [c#]   \n",
       "1          1        9          [c#, .net]   \n",
       "2          2       11                [c#]   \n",
       "3          3       16                [c#]   \n",
       "4          4       17   [mysql, database]   \n",
       "...      ...      ...                 ...   \n",
       "41163  41163  8057565             [mysql]   \n",
       "41164  41164  8054165              [html]   \n",
       "41165  41165  8064691  [javascript, html]   \n",
       "41166  41166  8057607              [java]   \n",
       "41167  41167  8067590        [javascript]   \n",
       "\n",
       "                                                    Body  java   c#  \\\n",
       "0      convert decim doubl track bar form opac lang p...   0.0  1.0   \n",
       "1      calcul someon age base datetim birthday given ...   0.0  1.0   \n",
       "2      calcul relat given specif datetim display rela...   0.0  1.0   \n",
       "3      fill dataset datat linq queri result expo linq...   0.0  1.0   \n",
       "4      binari mysql store binari http en wikipedia wi...   0.0  0.0   \n",
       "...                                                  ...   ...  ...   \n",
       "41163  mysql updat inner join queri idea problem mysq...   0.0  0.0   \n",
       "41164                        put form put form send form   0.0  0.0   \n",
       "41165  pas along variabl xmlhttprequest send variabl ...   0.0  0.0   \n",
       "41166  mock privat powermock still mock privat jndi u...   1.0  0.0   \n",
       "41167  associ versus hash search googl folk recommend...   0.0  0.0   \n",
       "\n",
       "       javascript  python  jquery  html  ...  regex  iphone  bash  \\\n",
       "0             0.0     0.0     0.0   0.0  ...    0.0     0.0   0.0   \n",
       "1             0.0     0.0     0.0   0.0  ...    0.0     0.0   0.0   \n",
       "2             0.0     0.0     0.0   0.0  ...    0.0     0.0   0.0   \n",
       "3             0.0     0.0     0.0   0.0  ...    0.0     0.0   0.0   \n",
       "4             0.0     0.0     0.0   0.0  ...    0.0     0.0   0.0   \n",
       "...           ...     ...     ...   ...  ...    ...     ...   ...   \n",
       "41163         0.0     0.0     0.0   0.0  ...    0.0     0.0   0.0   \n",
       "41164         0.0     0.0     0.0   1.0  ...    0.0     0.0   0.0   \n",
       "41165         1.0     0.0     0.0   1.0  ...    0.0     0.0   0.0   \n",
       "41166         0.0     0.0     0.0   0.0  ...    0.0     0.0   0.0   \n",
       "41167         1.0     0.0     0.0   0.0  ...    0.0     0.0   0.0   \n",
       "\n",
       "       objective-c  ios  windows  ruby  eclipse  tsql  database  \n",
       "0              0.0  0.0      0.0   0.0      0.0   0.0       0.0  \n",
       "1              0.0  0.0      0.0   0.0      0.0   0.0       0.0  \n",
       "2              0.0  0.0      0.0   0.0      0.0   0.0       0.0  \n",
       "3              0.0  0.0      0.0   0.0      0.0   0.0       0.0  \n",
       "4              0.0  0.0      0.0   0.0      0.0   0.0       1.0  \n",
       "...            ...  ...      ...   ...      ...   ...       ...  \n",
       "41163          0.0  0.0      0.0   0.0      0.0   0.0       0.0  \n",
       "41164          0.0  0.0      0.0   0.0      0.0   0.0       0.0  \n",
       "41165          0.0  0.0      0.0   0.0      0.0   0.0       0.0  \n",
       "41166          0.0  0.0      0.0   0.0      0.0   0.0       0.0  \n",
       "41167          0.0  0.0      0.0   0.0      0.0   0.0       0.0  \n",
       "\n",
       "[41168 rows x 34 columns]"
      ]
     },
     "execution_count": 3,
     "metadata": {},
     "output_type": "execute_result"
    }
   ],
   "source": [
    "df"
   ]
  },
  {
   "cell_type": "markdown",
   "id": "7cb0a45c",
   "metadata": {},
   "source": [
    "# Training data"
   ]
  },
  {
   "cell_type": "code",
   "execution_count": 4,
   "id": "1892b1c9",
   "metadata": {},
   "outputs": [],
   "source": [
    "X = df.Body\n",
    "Y = df.drop(columns = ['Id','index','Body','Tags'])"
   ]
  },
  {
   "cell_type": "markdown",
   "id": "79f6747a",
   "metadata": {},
   "source": [
    "# Unsupervided Method"
   ]
  },
  {
   "cell_type": "markdown",
   "id": "47d82a69",
   "metadata": {},
   "source": [
    "## LDA"
   ]
  },
  {
   "cell_type": "code",
   "execution_count": 5,
   "id": "8bce93c4",
   "metadata": {},
   "outputs": [],
   "source": [
    "from sklearn.feature_extraction.text import TfidfVectorizer\n",
    "tfidf_vec = TfidfVectorizer(max_df = 0.95, min_df = 0.01 , stop_words = 'english')\n",
    "X_fited = tfidf_vec.fit_transform(X)\n",
    "\n",
    "from sklearn.decomposition import LatentDirichletAllocation\n",
    "lda = LatentDirichletAllocation(n_components = 10,max_iter=5,learning_method='online',learning_offset=50,random_state = 0).fit(X_fited)"
   ]
  },
  {
   "cell_type": "code",
   "execution_count": 6,
   "id": "9ba5cbd3",
   "metadata": {},
   "outputs": [
    {
     "name": "stdout",
     "output_type": "stream",
     "text": [
      "Topic 0:\n",
      "string\n",
      "Topic 1:\n",
      "http\n",
      "Topic 2:\n",
      "date\n",
      "Topic 3:\n",
      "button\n",
      "Topic 4:\n",
      "command\n",
      "Topic 5:\n",
      "git\n",
      "Topic 6:\n",
      "list\n",
      "Topic 7:\n",
      "android\n",
      "Topic 8:\n",
      "sql\n",
      "Topic 9:\n",
      "java\n"
     ]
    }
   ],
   "source": [
    " def display_topics(model, feature_names, no_top_words):\n",
    "    for topic_idx, topic in enumerate(model.components_):\n",
    "        print(\"Topic {}:\".format(topic_idx))\n",
    "        print(\" \".join([feature_names[i] for i in topic.argsort()[:-no_top_words - 1:-1]]))\n",
    "\n",
    "no_top_words = 1\n",
    "display_topics(lda, tfidf_vec.get_feature_names(), no_top_words)"
   ]
  },
  {
   "cell_type": "markdown",
   "id": "588770df",
   "metadata": {},
   "source": [
    "## NMF"
   ]
  },
  {
   "cell_type": "code",
   "execution_count": 7,
   "id": "09193602",
   "metadata": {},
   "outputs": [
    {
     "data": {
      "text/plain": [
       "NMF(alpha=0.1, init='nndsvd', l1_ratio=0.5, n_components=10, random_state=1)"
      ]
     },
     "execution_count": 7,
     "metadata": {},
     "output_type": "execute_result"
    }
   ],
   "source": [
    "from sklearn.decomposition import NMF\n",
    "nmf = NMF(n_components=10, random_state=1, alpha=.1, l1_ratio=.5, init='nndsvd')\n",
    "nmf.fit(X_fited)"
   ]
  },
  {
   "cell_type": "code",
   "execution_count": 8,
   "id": "9b75aeab",
   "metadata": {},
   "outputs": [
    {
     "name": "stdout",
     "output_type": "stream",
     "text": [
      "Topic 0:\n",
      "http\n",
      "Topic 1:\n",
      "string\n",
      "Topic 2:\n",
      "android\n",
      "Topic 3:\n",
      "java\n",
      "Topic 4:\n",
      "list\n",
      "Topic 5:\n",
      "sql\n",
      "Topic 6:\n",
      "git\n",
      "Topic 7:\n",
      "date\n",
      "Topic 8:\n",
      "button\n",
      "Topic 9:\n",
      "cs\n"
     ]
    }
   ],
   "source": [
    "no_top_words = 1\n",
    "display_topics(nmf, tfidf_vec.get_feature_names(), no_top_words)"
   ]
  },
  {
   "cell_type": "markdown",
   "id": "a4254432",
   "metadata": {},
   "source": [
    "# Supervised Method"
   ]
  },
  {
   "cell_type": "markdown",
   "id": "1522790c",
   "metadata": {},
   "source": [
    "## Train/Test Split"
   ]
  },
  {
   "cell_type": "code",
   "execution_count": 9,
   "id": "576a411d",
   "metadata": {},
   "outputs": [],
   "source": [
    "from sklearn.model_selection import train_test_split\n",
    "X_train, X_test, y_train, y_test = train_test_split(list(X), Y, test_size=0.33, random_state=42)"
   ]
  },
  {
   "cell_type": "markdown",
   "id": "d7b009e9",
   "metadata": {},
   "source": [
    "## TF-IDF"
   ]
  },
  {
   "cell_type": "code",
   "execution_count": 10,
   "id": "701ab718",
   "metadata": {},
   "outputs": [],
   "source": [
    "from sklearn.feature_extraction.text import TfidfVectorizer\n",
    "vectorizer = TfidfVectorizer()\n",
    "X_train = vectorizer.fit_transform(X_train)\n",
    "X_test = vectorizer.transform(X_test)"
   ]
  },
  {
   "cell_type": "markdown",
   "id": "86014b46",
   "metadata": {},
   "source": [
    "## Scores"
   ]
  },
  {
   "cell_type": "code",
   "execution_count": 11,
   "id": "ae908766",
   "metadata": {},
   "outputs": [],
   "source": [
    "import sklearn.metrics as metrics\n",
    "from sklearn.metrics import f1_score\n",
    "from sklearn.metrics import accuracy_score\n",
    "from sklearn.metrics import precision_score\n",
    "from sklearn.metrics import recall_score\n",
    "\n",
    "# list of unique tags\n",
    "categories = list(Y.columns.values)\n",
    "\n",
    "# list of metrics used to compare model performance\n",
    "scores = ['f1','accuracy','precision','recall','fitting_duration']\n",
    "\n",
    "\n",
    "# scores dataframe for MultioutputClassifier\n",
    "LinearSVC_scores_moc = pd.DataFrame(columns=scores)\n",
    "MultinomialNB_scores_moc = pd.DataFrame(columns=scores)\n",
    "Logistic_regression_scores_moc = pd.DataFrame(columns=scores)\n",
    "\n",
    "# scores dataframe for chain classifier\n",
    "LinearSVC_scores_ch = pd.DataFrame(columns=scores)\n",
    "MultinomialNB_scores_ch = pd.DataFrame(columns=scores)\n",
    "Logistic_regression_scores_ch = pd.DataFrame(columns=scores)"
   ]
  },
  {
   "cell_type": "markdown",
   "id": "dfa365eb",
   "metadata": {},
   "source": [
    "## Classifier Chain"
   ]
  },
  {
   "cell_type": "markdown",
   "id": "47fb257c",
   "metadata": {},
   "source": [
    "### LinearSVC"
   ]
  },
  {
   "cell_type": "code",
   "execution_count": 12,
   "id": "e5b76246",
   "metadata": {},
   "outputs": [],
   "source": [
    "from sklearn.svm import LinearSVC\n",
    "from sklearn.multioutput import ClassifierChain\n",
    "base_clf = LinearSVC(random_state=0,max_iter=1000, tol=1e-5)\n",
    "chain = ClassifierChain(base_clf, order='random', random_state=0)\n",
    "start = time.time()\n",
    "chain.fit(X_train,y_train)\n",
    "end = time.time()"
   ]
  },
  {
   "cell_type": "code",
   "execution_count": 13,
   "id": "04377410",
   "metadata": {},
   "outputs": [],
   "source": [
    "prediction = chain.predict(X_test)"
   ]
  },
  {
   "cell_type": "code",
   "execution_count": 14,
   "id": "238ec9fe",
   "metadata": {},
   "outputs": [],
   "source": [
    "f1 = []\n",
    "accuracy = []\n",
    "precision = []\n",
    "recall = []\n",
    "f1.append(f1_score(y_test,prediction,average='weighted'))\n",
    "accuracy.append(accuracy_score(y_test,prediction))\n",
    "precision.append(precision_score(y_test,prediction,average='weighted'))\n",
    "recall.append(recall_score(y_test,prediction,average='weighted'))\n",
    "LinearSVC_scores_ch['f1']=f1\n",
    "LinearSVC_scores_ch['accuracy']=accuracy\n",
    "LinearSVC_scores_ch['precision']=precision\n",
    "LinearSVC_scores_ch['recall'] = recall\n",
    "LinearSVC_scores_ch['fitting_duration'] = end-start"
   ]
  },
  {
   "cell_type": "code",
   "execution_count": 15,
   "id": "fa5923d4",
   "metadata": {},
   "outputs": [
    {
     "data": {
      "text/html": [
       "<div>\n",
       "<style scoped>\n",
       "    .dataframe tbody tr th:only-of-type {\n",
       "        vertical-align: middle;\n",
       "    }\n",
       "\n",
       "    .dataframe tbody tr th {\n",
       "        vertical-align: top;\n",
       "    }\n",
       "\n",
       "    .dataframe thead th {\n",
       "        text-align: right;\n",
       "    }\n",
       "</style>\n",
       "<table border=\"1\" class=\"dataframe\">\n",
       "  <thead>\n",
       "    <tr style=\"text-align: right;\">\n",
       "      <th></th>\n",
       "      <th>f1</th>\n",
       "      <th>accuracy</th>\n",
       "      <th>precision</th>\n",
       "      <th>recall</th>\n",
       "      <th>fitting_duration</th>\n",
       "    </tr>\n",
       "  </thead>\n",
       "  <tbody>\n",
       "    <tr>\n",
       "      <th>0</th>\n",
       "      <td>0.613576</td>\n",
       "      <td>0.472177</td>\n",
       "      <td>0.686957</td>\n",
       "      <td>0.583579</td>\n",
       "      <td>2.471302</td>\n",
       "    </tr>\n",
       "  </tbody>\n",
       "</table>\n",
       "</div>"
      ],
      "text/plain": [
       "         f1  accuracy  precision    recall  fitting_duration\n",
       "0  0.613576  0.472177   0.686957  0.583579          2.471302"
      ]
     },
     "execution_count": 15,
     "metadata": {},
     "output_type": "execute_result"
    }
   ],
   "source": [
    "LinearSVC_scores_ch"
   ]
  },
  {
   "cell_type": "markdown",
   "id": "eb0451ce",
   "metadata": {},
   "source": [
    "### MultinomialNB"
   ]
  },
  {
   "cell_type": "code",
   "execution_count": 16,
   "id": "f4190f4d",
   "metadata": {},
   "outputs": [],
   "source": [
    "from sklearn.naive_bayes import MultinomialNB\n",
    "from sklearn.multioutput import ClassifierChain\n",
    "base_clf = MultinomialNB()\n",
    "chain = ClassifierChain(base_clf, order='random', random_state=0)\n",
    "start = time.time()\n",
    "chain.fit(X_train,y_train)\n",
    "end = time.time()"
   ]
  },
  {
   "cell_type": "code",
   "execution_count": 17,
   "id": "5ea43e9a",
   "metadata": {},
   "outputs": [],
   "source": [
    "prediction = chain.predict(X_test)"
   ]
  },
  {
   "cell_type": "code",
   "execution_count": 18,
   "id": "c1080062",
   "metadata": {},
   "outputs": [
    {
     "name": "stderr",
     "output_type": "stream",
     "text": [
      "/home/abdifatah/anaconda3/lib/python3.9/site-packages/sklearn/metrics/_classification.py:1248: UndefinedMetricWarning: Precision is ill-defined and being set to 0.0 in labels with no predicted samples. Use `zero_division` parameter to control this behavior.\n",
      "  _warn_prf(average, modifier, msg_start, len(result))\n"
     ]
    }
   ],
   "source": [
    "f1 = []\n",
    "accuracy = []\n",
    "precision = []\n",
    "recall = []\n",
    "f1.append(f1_score(y_test,prediction,average='weighted'))\n",
    "accuracy.append(accuracy_score(y_test,prediction))\n",
    "precision.append(precision_score(y_test,prediction,average='weighted'))\n",
    "recall.append(recall_score(y_test,prediction,average='weighted'))\n",
    "MultinomialNB_scores_ch['f1']=f1\n",
    "MultinomialNB_scores_ch['accuracy']=accuracy\n",
    "MultinomialNB_scores_ch['precision']=precision\n",
    "MultinomialNB_scores_ch['recall'] = recall\n",
    "MultinomialNB_scores_ch['fitting_duration'] = end-start"
   ]
  },
  {
   "cell_type": "code",
   "execution_count": 19,
   "id": "6d939327",
   "metadata": {},
   "outputs": [
    {
     "data": {
      "text/html": [
       "<div>\n",
       "<style scoped>\n",
       "    .dataframe tbody tr th:only-of-type {\n",
       "        vertical-align: middle;\n",
       "    }\n",
       "\n",
       "    .dataframe tbody tr th {\n",
       "        vertical-align: top;\n",
       "    }\n",
       "\n",
       "    .dataframe thead th {\n",
       "        text-align: right;\n",
       "    }\n",
       "</style>\n",
       "<table border=\"1\" class=\"dataframe\">\n",
       "  <thead>\n",
       "    <tr style=\"text-align: right;\">\n",
       "      <th></th>\n",
       "      <th>f1</th>\n",
       "      <th>accuracy</th>\n",
       "      <th>precision</th>\n",
       "      <th>recall</th>\n",
       "      <th>fitting_duration</th>\n",
       "    </tr>\n",
       "  </thead>\n",
       "  <tbody>\n",
       "    <tr>\n",
       "      <th>0</th>\n",
       "      <td>0.043778</td>\n",
       "      <td>0.02878</td>\n",
       "      <td>0.574575</td>\n",
       "      <td>0.024191</td>\n",
       "      <td>0.659849</td>\n",
       "    </tr>\n",
       "  </tbody>\n",
       "</table>\n",
       "</div>"
      ],
      "text/plain": [
       "         f1  accuracy  precision    recall  fitting_duration\n",
       "0  0.043778   0.02878   0.574575  0.024191          0.659849"
      ]
     },
     "execution_count": 19,
     "metadata": {},
     "output_type": "execute_result"
    }
   ],
   "source": [
    "MultinomialNB_scores_ch"
   ]
  },
  {
   "cell_type": "markdown",
   "id": "3b90ca28",
   "metadata": {},
   "source": [
    "### Logistic regression"
   ]
  },
  {
   "cell_type": "code",
   "execution_count": 20,
   "id": "ef6cd5b0",
   "metadata": {},
   "outputs": [],
   "source": [
    "from sklearn.linear_model import LogisticRegression\n",
    "from sklearn.multioutput import ClassifierChain\n",
    "base_clf = LogisticRegression(max_iter=500,tol=1e-5)\n",
    "chain = ClassifierChain(base_clf, order='random', random_state=0)\n",
    "start = time.time()\n",
    "chain.fit(X_train,y_train)\n",
    "end = time.time()"
   ]
  },
  {
   "cell_type": "code",
   "execution_count": 21,
   "id": "f9486eb2",
   "metadata": {},
   "outputs": [],
   "source": [
    "prediction = chain.predict(X_test)"
   ]
  },
  {
   "cell_type": "code",
   "execution_count": 22,
   "id": "9f99489a",
   "metadata": {},
   "outputs": [],
   "source": [
    "f1 = []\n",
    "accuracy = []\n",
    "precision = []\n",
    "recall = []\n",
    "f1.append(f1_score(y_test,prediction,average='weighted'))\n",
    "accuracy.append(accuracy_score(y_test,prediction))\n",
    "precision.append(precision_score(y_test,prediction,average='weighted'))\n",
    "recall.append(recall_score(y_test,prediction,average='weighted'))\n",
    "Logistic_regression_scores_ch['f1']=f1\n",
    "Logistic_regression_scores_ch['accuracy']=accuracy\n",
    "Logistic_regression_scores_ch['precision']=precision\n",
    "Logistic_regression_scores_ch['recall'] = recall\n",
    "Logistic_regression_scores_ch['fitting_duration'] = end-start"
   ]
  },
  {
   "cell_type": "code",
   "execution_count": 23,
   "id": "e1ae96fd",
   "metadata": {},
   "outputs": [
    {
     "data": {
      "text/html": [
       "<div>\n",
       "<style scoped>\n",
       "    .dataframe tbody tr th:only-of-type {\n",
       "        vertical-align: middle;\n",
       "    }\n",
       "\n",
       "    .dataframe tbody tr th {\n",
       "        vertical-align: top;\n",
       "    }\n",
       "\n",
       "    .dataframe thead th {\n",
       "        text-align: right;\n",
       "    }\n",
       "</style>\n",
       "<table border=\"1\" class=\"dataframe\">\n",
       "  <thead>\n",
       "    <tr style=\"text-align: right;\">\n",
       "      <th></th>\n",
       "      <th>f1</th>\n",
       "      <th>accuracy</th>\n",
       "      <th>precision</th>\n",
       "      <th>recall</th>\n",
       "      <th>fitting_duration</th>\n",
       "    </tr>\n",
       "  </thead>\n",
       "  <tbody>\n",
       "    <tr>\n",
       "      <th>0</th>\n",
       "      <td>0.519826</td>\n",
       "      <td>0.408582</td>\n",
       "      <td>0.716003</td>\n",
       "      <td>0.469325</td>\n",
       "      <td>22.726534</td>\n",
       "    </tr>\n",
       "  </tbody>\n",
       "</table>\n",
       "</div>"
      ],
      "text/plain": [
       "         f1  accuracy  precision    recall  fitting_duration\n",
       "0  0.519826  0.408582   0.716003  0.469325         22.726534"
      ]
     },
     "execution_count": 23,
     "metadata": {},
     "output_type": "execute_result"
    }
   ],
   "source": [
    "Logistic_regression_scores_ch"
   ]
  },
  {
   "cell_type": "markdown",
   "id": "aded6e5c",
   "metadata": {},
   "source": [
    "## MultiOutputClassifier"
   ]
  },
  {
   "cell_type": "markdown",
   "id": "150b91d6",
   "metadata": {},
   "source": [
    "### LinearSVC"
   ]
  },
  {
   "cell_type": "code",
   "execution_count": 24,
   "id": "2cf93bc1",
   "metadata": {},
   "outputs": [],
   "source": [
    "from sklearn.multioutput import MultiOutputClassifier\n",
    "from sklearn.svm import LinearSVC\n",
    "clf = MultiOutputClassifier(LinearSVC(random_state=0, tol=1e-5),n_jobs=-1)\n",
    "start = time.time()\n",
    "clf.fit(X_train,y_train)\n",
    "end = time.time()"
   ]
  },
  {
   "cell_type": "code",
   "execution_count": 25,
   "id": "075144bd",
   "metadata": {},
   "outputs": [],
   "source": [
    "prediction = clf.predict(X_test)"
   ]
  },
  {
   "cell_type": "code",
   "execution_count": 26,
   "id": "acba1ab6",
   "metadata": {},
   "outputs": [],
   "source": [
    "f1 = []\n",
    "accuracy = []\n",
    "precision = []\n",
    "recall = []\n",
    "f1.append(f1_score(y_test,prediction,average='weighted'))\n",
    "accuracy.append(accuracy_score(y_test,prediction))\n",
    "precision.append(precision_score(y_test,prediction,average='weighted'))\n",
    "recall.append(recall_score(y_test,prediction,average='weighted'))\n",
    "LinearSVC_scores_moc['f1']=f1\n",
    "LinearSVC_scores_moc['accuracy']=accuracy\n",
    "LinearSVC_scores_moc['precision']=precision\n",
    "LinearSVC_scores_moc['recall'] = recall\n",
    "LinearSVC_scores_moc['fitting_duration'] = end-start"
   ]
  },
  {
   "cell_type": "code",
   "execution_count": 27,
   "id": "2c08a94d",
   "metadata": {},
   "outputs": [
    {
     "data": {
      "text/html": [
       "<div>\n",
       "<style scoped>\n",
       "    .dataframe tbody tr th:only-of-type {\n",
       "        vertical-align: middle;\n",
       "    }\n",
       "\n",
       "    .dataframe tbody tr th {\n",
       "        vertical-align: top;\n",
       "    }\n",
       "\n",
       "    .dataframe thead th {\n",
       "        text-align: right;\n",
       "    }\n",
       "</style>\n",
       "<table border=\"1\" class=\"dataframe\">\n",
       "  <thead>\n",
       "    <tr style=\"text-align: right;\">\n",
       "      <th></th>\n",
       "      <th>f1</th>\n",
       "      <th>accuracy</th>\n",
       "      <th>precision</th>\n",
       "      <th>recall</th>\n",
       "      <th>fitting_duration</th>\n",
       "    </tr>\n",
       "  </thead>\n",
       "  <tbody>\n",
       "    <tr>\n",
       "      <th>0</th>\n",
       "      <td>0.632345</td>\n",
       "      <td>0.431915</td>\n",
       "      <td>0.766792</td>\n",
       "      <td>0.548872</td>\n",
       "      <td>1.867669</td>\n",
       "    </tr>\n",
       "  </tbody>\n",
       "</table>\n",
       "</div>"
      ],
      "text/plain": [
       "         f1  accuracy  precision    recall  fitting_duration\n",
       "0  0.632345  0.431915   0.766792  0.548872          1.867669"
      ]
     },
     "execution_count": 27,
     "metadata": {},
     "output_type": "execute_result"
    }
   ],
   "source": [
    "LinearSVC_scores_moc"
   ]
  },
  {
   "cell_type": "markdown",
   "id": "c8a8c64b",
   "metadata": {},
   "source": [
    "### MultinomialNB"
   ]
  },
  {
   "cell_type": "code",
   "execution_count": 28,
   "id": "cb37bb1a",
   "metadata": {},
   "outputs": [],
   "source": [
    "from sklearn.naive_bayes import MultinomialNB\n",
    "from sklearn.multioutput import MultiOutputClassifier\n",
    "clf = MultiOutputClassifier(MultinomialNB(),n_jobs=-1)\n",
    "start = time.time()\n",
    "clf.fit(X_train,y_train)\n",
    "end = time.time()"
   ]
  },
  {
   "cell_type": "code",
   "execution_count": 29,
   "id": "1849229e",
   "metadata": {},
   "outputs": [],
   "source": [
    "prediction = clf.predict(X_test)"
   ]
  },
  {
   "cell_type": "code",
   "execution_count": 30,
   "id": "a6a8dbd0",
   "metadata": {},
   "outputs": [
    {
     "name": "stderr",
     "output_type": "stream",
     "text": [
      "/home/abdifatah/anaconda3/lib/python3.9/site-packages/sklearn/metrics/_classification.py:1248: UndefinedMetricWarning: Precision is ill-defined and being set to 0.0 in labels with no predicted samples. Use `zero_division` parameter to control this behavior.\n",
      "  _warn_prf(average, modifier, msg_start, len(result))\n"
     ]
    }
   ],
   "source": [
    "f1 = []\n",
    "accuracy = []\n",
    "precision = []\n",
    "recall = []\n",
    "f1.append(f1_score(y_test,prediction,average='weighted'))\n",
    "accuracy.append(accuracy_score(y_test,prediction))\n",
    "precision.append(precision_score(y_test,prediction,average='weighted'))\n",
    "recall.append(recall_score(y_test,prediction,average='weighted'))\n",
    "MultinomialNB_scores_moc['f1']=f1\n",
    "MultinomialNB_scores_moc['accuracy']=accuracy\n",
    "MultinomialNB_scores_moc['precision']=precision\n",
    "MultinomialNB_scores_moc['recall'] = recall\n",
    "MultinomialNB_scores_moc['fitting_duration'] = end-start"
   ]
  },
  {
   "cell_type": "code",
   "execution_count": 31,
   "id": "2a3618e6",
   "metadata": {},
   "outputs": [
    {
     "data": {
      "text/html": [
       "<div>\n",
       "<style scoped>\n",
       "    .dataframe tbody tr th:only-of-type {\n",
       "        vertical-align: middle;\n",
       "    }\n",
       "\n",
       "    .dataframe tbody tr th {\n",
       "        vertical-align: top;\n",
       "    }\n",
       "\n",
       "    .dataframe thead th {\n",
       "        text-align: right;\n",
       "    }\n",
       "</style>\n",
       "<table border=\"1\" class=\"dataframe\">\n",
       "  <thead>\n",
       "    <tr style=\"text-align: right;\">\n",
       "      <th></th>\n",
       "      <th>f1</th>\n",
       "      <th>accuracy</th>\n",
       "      <th>precision</th>\n",
       "      <th>recall</th>\n",
       "      <th>fitting_duration</th>\n",
       "    </tr>\n",
       "  </thead>\n",
       "  <tbody>\n",
       "    <tr>\n",
       "      <th>0</th>\n",
       "      <td>0.030995</td>\n",
       "      <td>0.019653</td>\n",
       "      <td>0.524769</td>\n",
       "      <td>0.016672</td>\n",
       "      <td>0.26196</td>\n",
       "    </tr>\n",
       "  </tbody>\n",
       "</table>\n",
       "</div>"
      ],
      "text/plain": [
       "         f1  accuracy  precision    recall  fitting_duration\n",
       "0  0.030995  0.019653   0.524769  0.016672           0.26196"
      ]
     },
     "execution_count": 31,
     "metadata": {},
     "output_type": "execute_result"
    }
   ],
   "source": [
    "MultinomialNB_scores_moc"
   ]
  },
  {
   "cell_type": "markdown",
   "id": "6e51f174",
   "metadata": {},
   "source": [
    "### Logistic regression"
   ]
  },
  {
   "cell_type": "code",
   "execution_count": 32,
   "id": "030e8bcb",
   "metadata": {},
   "outputs": [],
   "source": [
    "from sklearn.linear_model import LogisticRegression\n",
    "from sklearn.multioutput import MultiOutputClassifier\n",
    "clf = MultiOutputClassifier(LogisticRegression(max_iter=500,tol=1e-5),n_jobs=-1)\n",
    "start = time.time()\n",
    "clf.fit(X_train,y_train)\n",
    "end = time.time()"
   ]
  },
  {
   "cell_type": "code",
   "execution_count": 33,
   "id": "eaf2e87d",
   "metadata": {},
   "outputs": [],
   "source": [
    "prediction = clf.predict(X_test)"
   ]
  },
  {
   "cell_type": "code",
   "execution_count": 34,
   "id": "94f64146",
   "metadata": {},
   "outputs": [],
   "source": [
    "f1 = []\n",
    "accuracy = []\n",
    "precision = []\n",
    "recall = []\n",
    "f1.append(f1_score(y_test,prediction,average='weighted'))\n",
    "accuracy.append(accuracy_score(y_test,prediction))\n",
    "precision.append(precision_score(y_test,prediction,average='weighted'))\n",
    "recall.append(recall_score(y_test,prediction,average='weighted'))\n",
    "Logistic_regression_scores_moc['f1']=f1\n",
    "Logistic_regression_scores_moc['accuracy']=accuracy\n",
    "Logistic_regression_scores_moc['precision']=precision\n",
    "Logistic_regression_scores_moc['recall'] = recall\n",
    "Logistic_regression_scores_moc['fitting_duration'] = end-start"
   ]
  },
  {
   "cell_type": "code",
   "execution_count": 35,
   "id": "7e27d7d3",
   "metadata": {},
   "outputs": [
    {
     "data": {
      "text/html": [
       "<div>\n",
       "<style scoped>\n",
       "    .dataframe tbody tr th:only-of-type {\n",
       "        vertical-align: middle;\n",
       "    }\n",
       "\n",
       "    .dataframe tbody tr th {\n",
       "        vertical-align: top;\n",
       "    }\n",
       "\n",
       "    .dataframe thead th {\n",
       "        text-align: right;\n",
       "    }\n",
       "</style>\n",
       "<table border=\"1\" class=\"dataframe\">\n",
       "  <thead>\n",
       "    <tr style=\"text-align: right;\">\n",
       "      <th></th>\n",
       "      <th>f1</th>\n",
       "      <th>accuracy</th>\n",
       "      <th>precision</th>\n",
       "      <th>recall</th>\n",
       "      <th>fitting_duration</th>\n",
       "    </tr>\n",
       "  </thead>\n",
       "  <tbody>\n",
       "    <tr>\n",
       "      <th>0</th>\n",
       "      <td>0.521325</td>\n",
       "      <td>0.334756</td>\n",
       "      <td>0.801383</td>\n",
       "      <td>0.407595</td>\n",
       "      <td>6.335904</td>\n",
       "    </tr>\n",
       "  </tbody>\n",
       "</table>\n",
       "</div>"
      ],
      "text/plain": [
       "         f1  accuracy  precision    recall  fitting_duration\n",
       "0  0.521325  0.334756   0.801383  0.407595          6.335904"
      ]
     },
     "execution_count": 35,
     "metadata": {},
     "output_type": "execute_result"
    }
   ],
   "source": [
    "Logistic_regression_scores_moc"
   ]
  },
  {
   "cell_type": "code",
   "execution_count": null,
   "id": "e0064896",
   "metadata": {},
   "outputs": [],
   "source": []
  }
 ],
 "metadata": {
  "kernelspec": {
   "display_name": "Python 3 (ipykernel)",
   "language": "python",
   "name": "python3"
  },
  "language_info": {
   "codemirror_mode": {
    "name": "ipython",
    "version": 3
   },
   "file_extension": ".py",
   "mimetype": "text/x-python",
   "name": "python",
   "nbconvert_exporter": "python",
   "pygments_lexer": "ipython3",
   "version": "3.9.7"
  }
 },
 "nbformat": 4,
 "nbformat_minor": 5
}
