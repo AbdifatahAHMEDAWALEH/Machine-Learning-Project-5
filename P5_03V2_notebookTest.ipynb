{
 "cells": [
  {
   "cell_type": "code",
   "execution_count": 1,
   "id": "a27c138f",
   "metadata": {},
   "outputs": [],
   "source": [
    "# import library\n",
    "import time\n",
    "import pandas as pd\n",
    "import nltk\n",
    "import matplotlib.pyplot as plt\n",
    "import numpy as np\n",
    "from nltk.corpus import stopwords\n",
    "from nltk.stem import *\n",
    "from nltk.stem.snowball import SnowballStemmer\n",
    "from nltk.stem import WordNetLemmatizer\n",
    "import joblib"
   ]
  },
  {
   "cell_type": "code",
   "execution_count": 2,
   "id": "9fd05529",
   "metadata": {},
   "outputs": [],
   "source": [
    "# import cleaned data\n",
    "df = joblib.load('cleaned_data.sav')"
   ]
  },
  {
   "cell_type": "code",
   "execution_count": 3,
   "id": "fcbdb887",
   "metadata": {},
   "outputs": [
    {
     "data": {
      "text/html": [
       "<div>\n",
       "<style scoped>\n",
       "    .dataframe tbody tr th:only-of-type {\n",
       "        vertical-align: middle;\n",
       "    }\n",
       "\n",
       "    .dataframe tbody tr th {\n",
       "        vertical-align: top;\n",
       "    }\n",
       "\n",
       "    .dataframe thead th {\n",
       "        text-align: right;\n",
       "    }\n",
       "</style>\n",
       "<table border=\"1\" class=\"dataframe\">\n",
       "  <thead>\n",
       "    <tr style=\"text-align: right;\">\n",
       "      <th></th>\n",
       "      <th>index</th>\n",
       "      <th>Id</th>\n",
       "      <th>Tags</th>\n",
       "      <th>Body</th>\n",
       "      <th>java</th>\n",
       "      <th>c#</th>\n",
       "      <th>javascript</th>\n",
       "      <th>python</th>\n",
       "      <th>jquery</th>\n",
       "      <th>html</th>\n",
       "      <th>...</th>\n",
       "      <th>regex</th>\n",
       "      <th>iphone</th>\n",
       "      <th>bash</th>\n",
       "      <th>objective-c</th>\n",
       "      <th>ios</th>\n",
       "      <th>windows</th>\n",
       "      <th>ruby</th>\n",
       "      <th>eclipse</th>\n",
       "      <th>tsql</th>\n",
       "      <th>database</th>\n",
       "    </tr>\n",
       "  </thead>\n",
       "  <tbody>\n",
       "    <tr>\n",
       "      <th>0</th>\n",
       "      <td>0</td>\n",
       "      <td>4</td>\n",
       "      <td>[c#]</td>\n",
       "      <td>convert decim doubl track bar form opac lang p...</td>\n",
       "      <td>0.0</td>\n",
       "      <td>1.0</td>\n",
       "      <td>0.0</td>\n",
       "      <td>0.0</td>\n",
       "      <td>0.0</td>\n",
       "      <td>0.0</td>\n",
       "      <td>...</td>\n",
       "      <td>0.0</td>\n",
       "      <td>0.0</td>\n",
       "      <td>0.0</td>\n",
       "      <td>0.0</td>\n",
       "      <td>0.0</td>\n",
       "      <td>0.0</td>\n",
       "      <td>0.0</td>\n",
       "      <td>0.0</td>\n",
       "      <td>0.0</td>\n",
       "      <td>0.0</td>\n",
       "    </tr>\n",
       "    <tr>\n",
       "      <th>1</th>\n",
       "      <td>1</td>\n",
       "      <td>9</td>\n",
       "      <td>[c#, .net]</td>\n",
       "      <td>calcul someon age base datetim birthday given ...</td>\n",
       "      <td>0.0</td>\n",
       "      <td>1.0</td>\n",
       "      <td>0.0</td>\n",
       "      <td>0.0</td>\n",
       "      <td>0.0</td>\n",
       "      <td>0.0</td>\n",
       "      <td>...</td>\n",
       "      <td>0.0</td>\n",
       "      <td>0.0</td>\n",
       "      <td>0.0</td>\n",
       "      <td>0.0</td>\n",
       "      <td>0.0</td>\n",
       "      <td>0.0</td>\n",
       "      <td>0.0</td>\n",
       "      <td>0.0</td>\n",
       "      <td>0.0</td>\n",
       "      <td>0.0</td>\n",
       "    </tr>\n",
       "    <tr>\n",
       "      <th>2</th>\n",
       "      <td>2</td>\n",
       "      <td>11</td>\n",
       "      <td>[c#]</td>\n",
       "      <td>calcul relat given specif datetim display rela...</td>\n",
       "      <td>0.0</td>\n",
       "      <td>1.0</td>\n",
       "      <td>0.0</td>\n",
       "      <td>0.0</td>\n",
       "      <td>0.0</td>\n",
       "      <td>0.0</td>\n",
       "      <td>...</td>\n",
       "      <td>0.0</td>\n",
       "      <td>0.0</td>\n",
       "      <td>0.0</td>\n",
       "      <td>0.0</td>\n",
       "      <td>0.0</td>\n",
       "      <td>0.0</td>\n",
       "      <td>0.0</td>\n",
       "      <td>0.0</td>\n",
       "      <td>0.0</td>\n",
       "      <td>0.0</td>\n",
       "    </tr>\n",
       "    <tr>\n",
       "      <th>3</th>\n",
       "      <td>3</td>\n",
       "      <td>16</td>\n",
       "      <td>[c#]</td>\n",
       "      <td>fill dataset datat linq queri result expo linq...</td>\n",
       "      <td>0.0</td>\n",
       "      <td>1.0</td>\n",
       "      <td>0.0</td>\n",
       "      <td>0.0</td>\n",
       "      <td>0.0</td>\n",
       "      <td>0.0</td>\n",
       "      <td>...</td>\n",
       "      <td>0.0</td>\n",
       "      <td>0.0</td>\n",
       "      <td>0.0</td>\n",
       "      <td>0.0</td>\n",
       "      <td>0.0</td>\n",
       "      <td>0.0</td>\n",
       "      <td>0.0</td>\n",
       "      <td>0.0</td>\n",
       "      <td>0.0</td>\n",
       "      <td>0.0</td>\n",
       "    </tr>\n",
       "    <tr>\n",
       "      <th>4</th>\n",
       "      <td>4</td>\n",
       "      <td>17</td>\n",
       "      <td>[mysql, database]</td>\n",
       "      <td>binari mysql store binari http en wikipedia wi...</td>\n",
       "      <td>0.0</td>\n",
       "      <td>0.0</td>\n",
       "      <td>0.0</td>\n",
       "      <td>0.0</td>\n",
       "      <td>0.0</td>\n",
       "      <td>0.0</td>\n",
       "      <td>...</td>\n",
       "      <td>0.0</td>\n",
       "      <td>0.0</td>\n",
       "      <td>0.0</td>\n",
       "      <td>0.0</td>\n",
       "      <td>0.0</td>\n",
       "      <td>0.0</td>\n",
       "      <td>0.0</td>\n",
       "      <td>0.0</td>\n",
       "      <td>0.0</td>\n",
       "      <td>1.0</td>\n",
       "    </tr>\n",
       "    <tr>\n",
       "      <th>...</th>\n",
       "      <td>...</td>\n",
       "      <td>...</td>\n",
       "      <td>...</td>\n",
       "      <td>...</td>\n",
       "      <td>...</td>\n",
       "      <td>...</td>\n",
       "      <td>...</td>\n",
       "      <td>...</td>\n",
       "      <td>...</td>\n",
       "      <td>...</td>\n",
       "      <td>...</td>\n",
       "      <td>...</td>\n",
       "      <td>...</td>\n",
       "      <td>...</td>\n",
       "      <td>...</td>\n",
       "      <td>...</td>\n",
       "      <td>...</td>\n",
       "      <td>...</td>\n",
       "      <td>...</td>\n",
       "      <td>...</td>\n",
       "      <td>...</td>\n",
       "    </tr>\n",
       "    <tr>\n",
       "      <th>41163</th>\n",
       "      <td>41163</td>\n",
       "      <td>8057565</td>\n",
       "      <td>[mysql]</td>\n",
       "      <td>mysql updat inner join queri idea problem mysq...</td>\n",
       "      <td>0.0</td>\n",
       "      <td>0.0</td>\n",
       "      <td>0.0</td>\n",
       "      <td>0.0</td>\n",
       "      <td>0.0</td>\n",
       "      <td>0.0</td>\n",
       "      <td>...</td>\n",
       "      <td>0.0</td>\n",
       "      <td>0.0</td>\n",
       "      <td>0.0</td>\n",
       "      <td>0.0</td>\n",
       "      <td>0.0</td>\n",
       "      <td>0.0</td>\n",
       "      <td>0.0</td>\n",
       "      <td>0.0</td>\n",
       "      <td>0.0</td>\n",
       "      <td>0.0</td>\n",
       "    </tr>\n",
       "    <tr>\n",
       "      <th>41164</th>\n",
       "      <td>41164</td>\n",
       "      <td>8054165</td>\n",
       "      <td>[html]</td>\n",
       "      <td>put form put form send form</td>\n",
       "      <td>0.0</td>\n",
       "      <td>0.0</td>\n",
       "      <td>0.0</td>\n",
       "      <td>0.0</td>\n",
       "      <td>0.0</td>\n",
       "      <td>1.0</td>\n",
       "      <td>...</td>\n",
       "      <td>0.0</td>\n",
       "      <td>0.0</td>\n",
       "      <td>0.0</td>\n",
       "      <td>0.0</td>\n",
       "      <td>0.0</td>\n",
       "      <td>0.0</td>\n",
       "      <td>0.0</td>\n",
       "      <td>0.0</td>\n",
       "      <td>0.0</td>\n",
       "      <td>0.0</td>\n",
       "    </tr>\n",
       "    <tr>\n",
       "      <th>41165</th>\n",
       "      <td>41165</td>\n",
       "      <td>8064691</td>\n",
       "      <td>[javascript, html]</td>\n",
       "      <td>pas along variabl xmlhttprequest send variabl ...</td>\n",
       "      <td>0.0</td>\n",
       "      <td>0.0</td>\n",
       "      <td>1.0</td>\n",
       "      <td>0.0</td>\n",
       "      <td>0.0</td>\n",
       "      <td>1.0</td>\n",
       "      <td>...</td>\n",
       "      <td>0.0</td>\n",
       "      <td>0.0</td>\n",
       "      <td>0.0</td>\n",
       "      <td>0.0</td>\n",
       "      <td>0.0</td>\n",
       "      <td>0.0</td>\n",
       "      <td>0.0</td>\n",
       "      <td>0.0</td>\n",
       "      <td>0.0</td>\n",
       "      <td>0.0</td>\n",
       "    </tr>\n",
       "    <tr>\n",
       "      <th>41166</th>\n",
       "      <td>41166</td>\n",
       "      <td>8057607</td>\n",
       "      <td>[java]</td>\n",
       "      <td>mock privat powermock still mock privat jndi u...</td>\n",
       "      <td>1.0</td>\n",
       "      <td>0.0</td>\n",
       "      <td>0.0</td>\n",
       "      <td>0.0</td>\n",
       "      <td>0.0</td>\n",
       "      <td>0.0</td>\n",
       "      <td>...</td>\n",
       "      <td>0.0</td>\n",
       "      <td>0.0</td>\n",
       "      <td>0.0</td>\n",
       "      <td>0.0</td>\n",
       "      <td>0.0</td>\n",
       "      <td>0.0</td>\n",
       "      <td>0.0</td>\n",
       "      <td>0.0</td>\n",
       "      <td>0.0</td>\n",
       "      <td>0.0</td>\n",
       "    </tr>\n",
       "    <tr>\n",
       "      <th>41167</th>\n",
       "      <td>41167</td>\n",
       "      <td>8067590</td>\n",
       "      <td>[javascript]</td>\n",
       "      <td>associ versus hash search googl folk recommend...</td>\n",
       "      <td>0.0</td>\n",
       "      <td>0.0</td>\n",
       "      <td>1.0</td>\n",
       "      <td>0.0</td>\n",
       "      <td>0.0</td>\n",
       "      <td>0.0</td>\n",
       "      <td>...</td>\n",
       "      <td>0.0</td>\n",
       "      <td>0.0</td>\n",
       "      <td>0.0</td>\n",
       "      <td>0.0</td>\n",
       "      <td>0.0</td>\n",
       "      <td>0.0</td>\n",
       "      <td>0.0</td>\n",
       "      <td>0.0</td>\n",
       "      <td>0.0</td>\n",
       "      <td>0.0</td>\n",
       "    </tr>\n",
       "  </tbody>\n",
       "</table>\n",
       "<p>41168 rows × 34 columns</p>\n",
       "</div>"
      ],
      "text/plain": [
       "       index       Id                Tags  \\\n",
       "0          0        4                [c#]   \n",
       "1          1        9          [c#, .net]   \n",
       "2          2       11                [c#]   \n",
       "3          3       16                [c#]   \n",
       "4          4       17   [mysql, database]   \n",
       "...      ...      ...                 ...   \n",
       "41163  41163  8057565             [mysql]   \n",
       "41164  41164  8054165              [html]   \n",
       "41165  41165  8064691  [javascript, html]   \n",
       "41166  41166  8057607              [java]   \n",
       "41167  41167  8067590        [javascript]   \n",
       "\n",
       "                                                    Body  java   c#  \\\n",
       "0      convert decim doubl track bar form opac lang p...   0.0  1.0   \n",
       "1      calcul someon age base datetim birthday given ...   0.0  1.0   \n",
       "2      calcul relat given specif datetim display rela...   0.0  1.0   \n",
       "3      fill dataset datat linq queri result expo linq...   0.0  1.0   \n",
       "4      binari mysql store binari http en wikipedia wi...   0.0  0.0   \n",
       "...                                                  ...   ...  ...   \n",
       "41163  mysql updat inner join queri idea problem mysq...   0.0  0.0   \n",
       "41164                        put form put form send form   0.0  0.0   \n",
       "41165  pas along variabl xmlhttprequest send variabl ...   0.0  0.0   \n",
       "41166  mock privat powermock still mock privat jndi u...   1.0  0.0   \n",
       "41167  associ versus hash search googl folk recommend...   0.0  0.0   \n",
       "\n",
       "       javascript  python  jquery  html  ...  regex  iphone  bash  \\\n",
       "0             0.0     0.0     0.0   0.0  ...    0.0     0.0   0.0   \n",
       "1             0.0     0.0     0.0   0.0  ...    0.0     0.0   0.0   \n",
       "2             0.0     0.0     0.0   0.0  ...    0.0     0.0   0.0   \n",
       "3             0.0     0.0     0.0   0.0  ...    0.0     0.0   0.0   \n",
       "4             0.0     0.0     0.0   0.0  ...    0.0     0.0   0.0   \n",
       "...           ...     ...     ...   ...  ...    ...     ...   ...   \n",
       "41163         0.0     0.0     0.0   0.0  ...    0.0     0.0   0.0   \n",
       "41164         0.0     0.0     0.0   1.0  ...    0.0     0.0   0.0   \n",
       "41165         1.0     0.0     0.0   1.0  ...    0.0     0.0   0.0   \n",
       "41166         0.0     0.0     0.0   0.0  ...    0.0     0.0   0.0   \n",
       "41167         1.0     0.0     0.0   0.0  ...    0.0     0.0   0.0   \n",
       "\n",
       "       objective-c  ios  windows  ruby  eclipse  tsql  database  \n",
       "0              0.0  0.0      0.0   0.0      0.0   0.0       0.0  \n",
       "1              0.0  0.0      0.0   0.0      0.0   0.0       0.0  \n",
       "2              0.0  0.0      0.0   0.0      0.0   0.0       0.0  \n",
       "3              0.0  0.0      0.0   0.0      0.0   0.0       0.0  \n",
       "4              0.0  0.0      0.0   0.0      0.0   0.0       1.0  \n",
       "...            ...  ...      ...   ...      ...   ...       ...  \n",
       "41163          0.0  0.0      0.0   0.0      0.0   0.0       0.0  \n",
       "41164          0.0  0.0      0.0   0.0      0.0   0.0       0.0  \n",
       "41165          0.0  0.0      0.0   0.0      0.0   0.0       0.0  \n",
       "41166          0.0  0.0      0.0   0.0      0.0   0.0       0.0  \n",
       "41167          0.0  0.0      0.0   0.0      0.0   0.0       0.0  \n",
       "\n",
       "[41168 rows x 34 columns]"
      ]
     },
     "execution_count": 3,
     "metadata": {},
     "output_type": "execute_result"
    }
   ],
   "source": [
    "# visualization\n",
    "df"
   ]
  },
  {
   "cell_type": "markdown",
   "id": "ce94f521",
   "metadata": {},
   "source": [
    "# Target & Features"
   ]
  },
  {
   "cell_type": "code",
   "execution_count": 4,
   "id": "b6963b13",
   "metadata": {},
   "outputs": [],
   "source": [
    "# creating feature and target variables\n",
    "X = df.Body\n",
    "Y = df.drop(columns = ['Id','index','Body','Tags'])"
   ]
  },
  {
   "cell_type": "markdown",
   "id": "d26fb0c3",
   "metadata": {},
   "source": [
    "# Unsupervided method"
   ]
  },
  {
   "cell_type": "markdown",
   "id": "b8d30f07",
   "metadata": {},
   "source": [
    "## LDA"
   ]
  },
  {
   "cell_type": "code",
   "execution_count": 5,
   "id": "2fb6ea7c",
   "metadata": {},
   "outputs": [],
   "source": [
    "# topic extraction with LDA\n",
    "from sklearn.feature_extraction.text import TfidfVectorizer\n",
    "tfidf_vec = TfidfVectorizer(max_df = 0.95, min_df = 0.01 , stop_words = 'english')\n",
    "X_fited = tfidf_vec.fit_transform(X)\n",
    "\n",
    "from sklearn.decomposition import LatentDirichletAllocation\n",
    "lda = LatentDirichletAllocation(n_components = 10,max_iter=5,learning_method='online',learning_offset=50,random_state = 0).fit(X_fited)"
   ]
  },
  {
   "cell_type": "code",
   "execution_count": 6,
   "id": "d8c9b3da",
   "metadata": {},
   "outputs": [
    {
     "name": "stdout",
     "output_type": "stream",
     "text": [
      "Topic 0:\n",
      "string charact\n",
      "Topic 1:\n",
      "http java\n",
      "Topic 2:\n",
      "date datetim\n",
      "Topic 3:\n",
      "button input\n",
      "Topic 4:\n",
      "command directori\n",
      "Topic 5:\n",
      "git url\n",
      "Topic 6:\n",
      "list item\n",
      "Topic 7:\n",
      "android cs\n",
      "Topic 8:\n",
      "sql column\n",
      "Topic 9:\n",
      "java void\n"
     ]
    }
   ],
   "source": [
    "# displaying the 10 most frequent topic\n",
    "def display_topics(model, feature_names, no_top_words):\n",
    "    for topic_idx, topic in enumerate(model.components_):\n",
    "        print(\"Topic {}:\".format(topic_idx))\n",
    "        print(\" \".join([feature_names[i] for i in topic.argsort()[:-no_top_words - 1:-1]]))\n",
    "\n",
    "no_top_words = 2\n",
    "display_topics(lda, tfidf_vec.get_feature_names(), no_top_words)"
   ]
  },
  {
   "cell_type": "markdown",
   "id": "47c932de",
   "metadata": {},
   "source": [
    "## NMF"
   ]
  },
  {
   "cell_type": "code",
   "execution_count": 7,
   "id": "a4156f7e",
   "metadata": {},
   "outputs": [
    {
     "data": {
      "text/plain": [
       "NMF(alpha=0.1, init='nndsvd', l1_ratio=0.5, n_components=10, random_state=1)"
      ]
     },
     "execution_count": 7,
     "metadata": {},
     "output_type": "execute_result"
    }
   ],
   "source": [
    "# topic extraction with NMF\n",
    "from sklearn.decomposition import NMF\n",
    "nmf = NMF(n_components=10, random_state=1, alpha=.1, l1_ratio=.5, init='nndsvd')\n",
    "nmf.fit(X_fited)"
   ]
  },
  {
   "cell_type": "code",
   "execution_count": 8,
   "id": "1bf874b1",
   "metadata": {},
   "outputs": [
    {
     "name": "stdout",
     "output_type": "stream",
     "text": [
      "Topic 0:\n",
      "http variabl\n",
      "Topic 1:\n",
      "string convert\n",
      "Topic 2:\n",
      "android activ\n",
      "Topic 3:\n",
      "java lang\n",
      "Topic 4:\n",
      "list item\n",
      "Topic 5:\n",
      "sql column\n",
      "Topic 6:\n",
      "git commit\n",
      "Topic 7:\n",
      "date datetim\n",
      "Topic 8:\n",
      "button input\n",
      "Topic 9:\n",
      "cs width\n"
     ]
    }
   ],
   "source": [
    "# displaying the most 10 most frequent topic\n",
    "no_top_words = 2\n",
    "display_topics(nmf, tfidf_vec.get_feature_names(), no_top_words)"
   ]
  },
  {
   "cell_type": "markdown",
   "id": "95837663",
   "metadata": {},
   "source": [
    "# Supervised method"
   ]
  },
  {
   "cell_type": "markdown",
   "id": "01d706b4",
   "metadata": {},
   "source": [
    "## Bag of word"
   ]
  },
  {
   "cell_type": "code",
   "execution_count": 9,
   "id": "879f2afe",
   "metadata": {},
   "outputs": [],
   "source": [
    "from gensim.corpora import Dictionary\n",
    "body = df.Body"
   ]
  },
  {
   "cell_type": "code",
   "execution_count": 10,
   "id": "b8036713",
   "metadata": {},
   "outputs": [],
   "source": [
    "def Tokenization_texte(texte):\n",
    "    x = []\n",
    "    tokenizer = nltk.RegexpTokenizer(r'\\w+')\n",
    "    for row in texte:\n",
    "        x.append(tokenizer.tokenize(row))\n",
    "    return x"
   ]
  },
  {
   "cell_type": "code",
   "execution_count": 11,
   "id": "e7479aa1",
   "metadata": {},
   "outputs": [],
   "source": [
    "tkz_X = Tokenization_texte(body)\n",
    "dct = Dictionary(tkz_X)\n",
    "df['Body']=tkz_X\n",
    "X = df['Body'].apply(dct.doc2bow)"
   ]
  },
  {
   "cell_type": "code",
   "execution_count": 12,
   "id": "fb2d3715",
   "metadata": {},
   "outputs": [],
   "source": [
    "from gensim.matutils import corpus2csc\n",
    "X = corpus2csc(X, num_terms=len(dct)).transpose()"
   ]
  },
  {
   "cell_type": "markdown",
   "id": "77bab8b5",
   "metadata": {},
   "source": [
    "## Train_test_split"
   ]
  },
  {
   "cell_type": "code",
   "execution_count": 13,
   "id": "a78cddc7",
   "metadata": {},
   "outputs": [],
   "source": [
    "from sklearn.model_selection import train_test_split\n",
    "X_train, X_test, y_train, y_test = train_test_split(X, Y, test_size=0.33, random_state=42)"
   ]
  },
  {
   "cell_type": "markdown",
   "id": "555f7710",
   "metadata": {},
   "source": [
    "## TF-IDF Vectorization"
   ]
  },
  {
   "cell_type": "code",
   "execution_count": 14,
   "id": "0bb97497",
   "metadata": {},
   "outputs": [],
   "source": [
    "from sklearn.feature_extraction.text import TfidfTransformer\n",
    "tfidf_vec = TfidfTransformer()\n",
    "X_train = tfidf_vec.fit_transform(X_train)\n",
    "X_test = tfidf_vec.transform(X_test)"
   ]
  },
  {
   "cell_type": "markdown",
   "id": "9e9946cd",
   "metadata": {},
   "source": [
    "## Scores board"
   ]
  },
  {
   "cell_type": "code",
   "execution_count": 15,
   "id": "aa751688",
   "metadata": {},
   "outputs": [],
   "source": [
    "import sklearn.metrics as metrics\n",
    "from sklearn.metrics import f1_score\n",
    "from sklearn.metrics import accuracy_score\n",
    "from sklearn.metrics import precision_score\n",
    "from sklearn.metrics import recall_score\n",
    "\n",
    "# list of unique tags\n",
    "categories = list(Y.columns.values)\n",
    "\n",
    "# list of metrics used to compare model performance\n",
    "scores = ['f1','accuracy','precision','recall','fitting_duration']\n",
    "\n",
    "\n",
    "# scores dataframe for MultioutputClassifier\n",
    "LinearSVC_scores_moc = pd.DataFrame(columns=scores)\n",
    "MultinomialNB_scores_moc = pd.DataFrame(columns=scores)\n",
    "Logistic_regression_scores_moc = pd.DataFrame(columns=scores)\n",
    "\n",
    "# scores dataframe for chain classifier\n",
    "LinearSVC_scores_ch = pd.DataFrame(columns=scores)\n",
    "MultinomialNB_scores_ch = pd.DataFrame(columns=scores)\n",
    "Logistic_regression_scores_ch = pd.DataFrame(columns=scores)"
   ]
  },
  {
   "cell_type": "markdown",
   "id": "899c1cc1",
   "metadata": {},
   "source": [
    "## Classifier Chain"
   ]
  },
  {
   "cell_type": "markdown",
   "id": "8926e302",
   "metadata": {},
   "source": [
    "### LinearSVC"
   ]
  },
  {
   "cell_type": "code",
   "execution_count": 16,
   "id": "78d5a5d8",
   "metadata": {},
   "outputs": [],
   "source": [
    "from sklearn.svm import LinearSVC\n",
    "from sklearn.multioutput import ClassifierChain\n",
    "base_clf = LinearSVC(random_state=0, tol=1e-5)\n",
    "chain = ClassifierChain(base_clf, order='random', random_state=0)\n",
    "start = time.time()\n",
    "chain.fit(X_train,y_train)\n",
    "end = time.time()"
   ]
  },
  {
   "cell_type": "code",
   "execution_count": 17,
   "id": "9deef114",
   "metadata": {},
   "outputs": [],
   "source": [
    "prediction = chain.predict(X_test)"
   ]
  },
  {
   "cell_type": "code",
   "execution_count": 18,
   "id": "cf2d0c9c",
   "metadata": {},
   "outputs": [],
   "source": [
    "f1 = []\n",
    "accuracy = []\n",
    "precision = []\n",
    "recall = []\n",
    "f1.append(f1_score(y_test,prediction,average='weighted'))\n",
    "accuracy.append(accuracy_score(y_test,prediction))\n",
    "precision.append(precision_score(y_test,prediction,average='weighted'))\n",
    "recall.append(recall_score(y_test,prediction,average='weighted'))\n",
    "LinearSVC_scores_ch['f1']=f1\n",
    "LinearSVC_scores_ch['accuracy']=accuracy\n",
    "LinearSVC_scores_ch['precision']=precision\n",
    "LinearSVC_scores_ch['recall'] = recall\n",
    "LinearSVC_scores_ch['fitting_duration'] = end-start"
   ]
  },
  {
   "cell_type": "code",
   "execution_count": 19,
   "id": "ce09377e",
   "metadata": {},
   "outputs": [
    {
     "data": {
      "text/html": [
       "<div>\n",
       "<style scoped>\n",
       "    .dataframe tbody tr th:only-of-type {\n",
       "        vertical-align: middle;\n",
       "    }\n",
       "\n",
       "    .dataframe tbody tr th {\n",
       "        vertical-align: top;\n",
       "    }\n",
       "\n",
       "    .dataframe thead th {\n",
       "        text-align: right;\n",
       "    }\n",
       "</style>\n",
       "<table border=\"1\" class=\"dataframe\">\n",
       "  <thead>\n",
       "    <tr style=\"text-align: right;\">\n",
       "      <th></th>\n",
       "      <th>f1</th>\n",
       "      <th>accuracy</th>\n",
       "      <th>precision</th>\n",
       "      <th>recall</th>\n",
       "      <th>fitting_duration</th>\n",
       "    </tr>\n",
       "  </thead>\n",
       "  <tbody>\n",
       "    <tr>\n",
       "      <th>0</th>\n",
       "      <td>0.600272</td>\n",
       "      <td>0.470779</td>\n",
       "      <td>0.693068</td>\n",
       "      <td>0.565544</td>\n",
       "      <td>2.602069</td>\n",
       "    </tr>\n",
       "  </tbody>\n",
       "</table>\n",
       "</div>"
      ],
      "text/plain": [
       "         f1  accuracy  precision    recall  fitting_duration\n",
       "0  0.600272  0.470779   0.693068  0.565544          2.602069"
      ]
     },
     "execution_count": 19,
     "metadata": {},
     "output_type": "execute_result"
    }
   ],
   "source": [
    "LinearSVC_scores_ch"
   ]
  },
  {
   "cell_type": "markdown",
   "id": "585d973b",
   "metadata": {},
   "source": [
    "### MultinomialNB"
   ]
  },
  {
   "cell_type": "code",
   "execution_count": 20,
   "id": "fc9643ff",
   "metadata": {},
   "outputs": [],
   "source": [
    "from sklearn.naive_bayes import MultinomialNB\n",
    "from sklearn.multioutput import ClassifierChain\n",
    "base_clf = MultinomialNB()\n",
    "chain = ClassifierChain(base_clf, order='random', random_state=0)\n",
    "start = time.time()\n",
    "chain.fit(X_train,y_train)\n",
    "end = time.time()"
   ]
  },
  {
   "cell_type": "code",
   "execution_count": 21,
   "id": "6b7c931f",
   "metadata": {},
   "outputs": [],
   "source": [
    "prediction = chain.predict(X_test)"
   ]
  },
  {
   "cell_type": "code",
   "execution_count": 22,
   "id": "bfc475f8",
   "metadata": {},
   "outputs": [
    {
     "name": "stderr",
     "output_type": "stream",
     "text": [
      "/home/abdifatah/anaconda3/lib/python3.9/site-packages/sklearn/metrics/_classification.py:1248: UndefinedMetricWarning: Precision is ill-defined and being set to 0.0 in labels with no predicted samples. Use `zero_division` parameter to control this behavior.\n",
      "  _warn_prf(average, modifier, msg_start, len(result))\n"
     ]
    }
   ],
   "source": [
    "f1 = []\n",
    "accuracy = []\n",
    "precision = []\n",
    "recall = []\n",
    "f1.append(f1_score(y_test,prediction,average='weighted'))\n",
    "accuracy.append(accuracy_score(y_test,prediction))\n",
    "precision.append(precision_score(y_test,prediction,average='weighted'))\n",
    "recall.append(recall_score(y_test,prediction,average='weighted'))\n",
    "MultinomialNB_scores_ch['f1']=f1\n",
    "MultinomialNB_scores_ch['accuracy']=accuracy\n",
    "MultinomialNB_scores_ch['precision']=precision\n",
    "MultinomialNB_scores_ch['recall'] = recall\n",
    "MultinomialNB_scores_ch['fitting_duration'] = end-start"
   ]
  },
  {
   "cell_type": "code",
   "execution_count": 23,
   "id": "9ad37ba7",
   "metadata": {},
   "outputs": [
    {
     "data": {
      "text/html": [
       "<div>\n",
       "<style scoped>\n",
       "    .dataframe tbody tr th:only-of-type {\n",
       "        vertical-align: middle;\n",
       "    }\n",
       "\n",
       "    .dataframe tbody tr th {\n",
       "        vertical-align: top;\n",
       "    }\n",
       "\n",
       "    .dataframe thead th {\n",
       "        text-align: right;\n",
       "    }\n",
       "</style>\n",
       "<table border=\"1\" class=\"dataframe\">\n",
       "  <thead>\n",
       "    <tr style=\"text-align: right;\">\n",
       "      <th></th>\n",
       "      <th>f1</th>\n",
       "      <th>accuracy</th>\n",
       "      <th>precision</th>\n",
       "      <th>recall</th>\n",
       "      <th>fitting_duration</th>\n",
       "    </tr>\n",
       "  </thead>\n",
       "  <tbody>\n",
       "    <tr>\n",
       "      <th>0</th>\n",
       "      <td>0.033533</td>\n",
       "      <td>0.021125</td>\n",
       "      <td>0.443521</td>\n",
       "      <td>0.018198</td>\n",
       "      <td>0.596478</td>\n",
       "    </tr>\n",
       "  </tbody>\n",
       "</table>\n",
       "</div>"
      ],
      "text/plain": [
       "         f1  accuracy  precision    recall  fitting_duration\n",
       "0  0.033533  0.021125   0.443521  0.018198          0.596478"
      ]
     },
     "execution_count": 23,
     "metadata": {},
     "output_type": "execute_result"
    }
   ],
   "source": [
    "MultinomialNB_scores_ch"
   ]
  },
  {
   "cell_type": "markdown",
   "id": "5e324c8f",
   "metadata": {},
   "source": [
    "### Logistic regression"
   ]
  },
  {
   "cell_type": "code",
   "execution_count": 24,
   "id": "e2c0a895",
   "metadata": {},
   "outputs": [],
   "source": [
    "from sklearn.linear_model import LogisticRegression\n",
    "from sklearn.multioutput import ClassifierChain\n",
    "base_clf = LogisticRegression(max_iter=500,tol=1e-5)\n",
    "chain = ClassifierChain(base_clf, order='random', random_state=0)\n",
    "start = time.time()\n",
    "chain.fit(X_train,y_train)\n",
    "end = time.time()"
   ]
  },
  {
   "cell_type": "code",
   "execution_count": 25,
   "id": "9896a154",
   "metadata": {},
   "outputs": [],
   "source": [
    "prediction = chain.predict(X_test)"
   ]
  },
  {
   "cell_type": "code",
   "execution_count": 26,
   "id": "1ef3dce9",
   "metadata": {},
   "outputs": [],
   "source": [
    "f1 = []\n",
    "accuracy = []\n",
    "precision = []\n",
    "recall = []\n",
    "f1.append(f1_score(y_test,prediction,average='weighted'))\n",
    "accuracy.append(accuracy_score(y_test,prediction))\n",
    "precision.append(precision_score(y_test,prediction,average='weighted'))\n",
    "recall.append(recall_score(y_test,prediction,average='weighted'))\n",
    "Logistic_regression_scores_ch['f1']=f1\n",
    "Logistic_regression_scores_ch['accuracy']=accuracy\n",
    "Logistic_regression_scores_ch['precision']=precision\n",
    "Logistic_regression_scores_ch['recall'] = recall\n",
    "Logistic_regression_scores_ch['fitting_duration'] = end-start"
   ]
  },
  {
   "cell_type": "code",
   "execution_count": 27,
   "id": "0cfa9c57",
   "metadata": {},
   "outputs": [
    {
     "data": {
      "text/html": [
       "<div>\n",
       "<style scoped>\n",
       "    .dataframe tbody tr th:only-of-type {\n",
       "        vertical-align: middle;\n",
       "    }\n",
       "\n",
       "    .dataframe tbody tr th {\n",
       "        vertical-align: top;\n",
       "    }\n",
       "\n",
       "    .dataframe thead th {\n",
       "        text-align: right;\n",
       "    }\n",
       "</style>\n",
       "<table border=\"1\" class=\"dataframe\">\n",
       "  <thead>\n",
       "    <tr style=\"text-align: right;\">\n",
       "      <th></th>\n",
       "      <th>f1</th>\n",
       "      <th>accuracy</th>\n",
       "      <th>precision</th>\n",
       "      <th>recall</th>\n",
       "      <th>fitting_duration</th>\n",
       "    </tr>\n",
       "  </thead>\n",
       "  <tbody>\n",
       "    <tr>\n",
       "      <th>0</th>\n",
       "      <td>0.494619</td>\n",
       "      <td>0.394009</td>\n",
       "      <td>0.722519</td>\n",
       "      <td>0.4435</td>\n",
       "      <td>27.611098</td>\n",
       "    </tr>\n",
       "  </tbody>\n",
       "</table>\n",
       "</div>"
      ],
      "text/plain": [
       "         f1  accuracy  precision  recall  fitting_duration\n",
       "0  0.494619  0.394009   0.722519  0.4435         27.611098"
      ]
     },
     "execution_count": 27,
     "metadata": {},
     "output_type": "execute_result"
    }
   ],
   "source": [
    "Logistic_regression_scores_ch"
   ]
  },
  {
   "cell_type": "markdown",
   "id": "75dc2641",
   "metadata": {},
   "source": [
    "## MultiOutputClassifier"
   ]
  },
  {
   "cell_type": "markdown",
   "id": "2267dd0e",
   "metadata": {},
   "source": [
    "### LinearSVC"
   ]
  },
  {
   "cell_type": "code",
   "execution_count": 28,
   "id": "b7de7430",
   "metadata": {},
   "outputs": [],
   "source": [
    "from sklearn.multioutput import MultiOutputClassifier\n",
    "from sklearn.svm import LinearSVC\n",
    "clf = MultiOutputClassifier(LinearSVC(random_state=0, tol=1e-5),n_jobs=-1)\n",
    "start = time.time()\n",
    "clf.fit(X_train,y_train)\n",
    "end = time.time()"
   ]
  },
  {
   "cell_type": "code",
   "execution_count": 29,
   "id": "cf80bf24",
   "metadata": {},
   "outputs": [],
   "source": [
    "prediction = clf.predict(X_test)"
   ]
  },
  {
   "cell_type": "code",
   "execution_count": 30,
   "id": "50ff2631",
   "metadata": {},
   "outputs": [],
   "source": [
    "f1 = []\n",
    "accuracy = []\n",
    "precision = []\n",
    "recall = []\n",
    "f1.append(f1_score(y_test,prediction,average='weighted'))\n",
    "accuracy.append(accuracy_score(y_test,prediction))\n",
    "precision.append(precision_score(y_test,prediction,average='weighted'))\n",
    "recall.append(recall_score(y_test,prediction,average='weighted'))\n",
    "LinearSVC_scores_moc['f1']=f1\n",
    "LinearSVC_scores_moc['accuracy']=accuracy\n",
    "LinearSVC_scores_moc['precision']=precision\n",
    "LinearSVC_scores_moc['recall'] = recall\n",
    "LinearSVC_scores_moc['fitting_duration'] = end-start"
   ]
  },
  {
   "cell_type": "code",
   "execution_count": 31,
   "id": "7cdc3742",
   "metadata": {},
   "outputs": [
    {
     "data": {
      "text/html": [
       "<div>\n",
       "<style scoped>\n",
       "    .dataframe tbody tr th:only-of-type {\n",
       "        vertical-align: middle;\n",
       "    }\n",
       "\n",
       "    .dataframe tbody tr th {\n",
       "        vertical-align: top;\n",
       "    }\n",
       "\n",
       "    .dataframe thead th {\n",
       "        text-align: right;\n",
       "    }\n",
       "</style>\n",
       "<table border=\"1\" class=\"dataframe\">\n",
       "  <thead>\n",
       "    <tr style=\"text-align: right;\">\n",
       "      <th></th>\n",
       "      <th>f1</th>\n",
       "      <th>accuracy</th>\n",
       "      <th>precision</th>\n",
       "      <th>recall</th>\n",
       "      <th>fitting_duration</th>\n",
       "    </tr>\n",
       "  </thead>\n",
       "  <tbody>\n",
       "    <tr>\n",
       "      <th>0</th>\n",
       "      <td>0.614877</td>\n",
       "      <td>0.421242</td>\n",
       "      <td>0.780547</td>\n",
       "      <td>0.520268</td>\n",
       "      <td>1.621302</td>\n",
       "    </tr>\n",
       "  </tbody>\n",
       "</table>\n",
       "</div>"
      ],
      "text/plain": [
       "         f1  accuracy  precision    recall  fitting_duration\n",
       "0  0.614877  0.421242   0.780547  0.520268          1.621302"
      ]
     },
     "execution_count": 31,
     "metadata": {},
     "output_type": "execute_result"
    }
   ],
   "source": [
    "LinearSVC_scores_moc"
   ]
  },
  {
   "cell_type": "markdown",
   "id": "47a04cc2",
   "metadata": {},
   "source": [
    "### MultinomialNB"
   ]
  },
  {
   "cell_type": "code",
   "execution_count": 32,
   "id": "3e264934",
   "metadata": {},
   "outputs": [],
   "source": [
    "from sklearn.naive_bayes import MultinomialNB\n",
    "from sklearn.multioutput import MultiOutputClassifier\n",
    "clf = MultiOutputClassifier(LinearSVC(random_state=0, tol=1e-5),n_jobs=-1)\n",
    "start = time.time()\n",
    "clf.fit(X_train,y_train)\n",
    "end = time.time()"
   ]
  },
  {
   "cell_type": "code",
   "execution_count": 33,
   "id": "49ecb969",
   "metadata": {},
   "outputs": [],
   "source": [
    "prediction = clf.predict(X_test)"
   ]
  },
  {
   "cell_type": "code",
   "execution_count": 34,
   "id": "e0b47f4c",
   "metadata": {},
   "outputs": [],
   "source": [
    "f1 = []\n",
    "accuracy = []\n",
    "precision = []\n",
    "recall = []\n",
    "f1.append(f1_score(y_test,prediction,average='weighted'))\n",
    "accuracy.append(accuracy_score(y_test,prediction))\n",
    "precision.append(precision_score(y_test,prediction,average='weighted'))\n",
    "recall.append(recall_score(y_test,prediction,average='weighted'))\n",
    "MultinomialNB_scores_moc['f1']=f1\n",
    "MultinomialNB_scores_moc['accuracy']=accuracy\n",
    "MultinomialNB_scores_moc['precision']=precision\n",
    "MultinomialNB_scores_moc['recall'] = recall\n",
    "MultinomialNB_scores_moc['fitting_duration'] = end-start"
   ]
  },
  {
   "cell_type": "code",
   "execution_count": 35,
   "id": "415a1d6d",
   "metadata": {},
   "outputs": [
    {
     "data": {
      "text/html": [
       "<div>\n",
       "<style scoped>\n",
       "    .dataframe tbody tr th:only-of-type {\n",
       "        vertical-align: middle;\n",
       "    }\n",
       "\n",
       "    .dataframe tbody tr th {\n",
       "        vertical-align: top;\n",
       "    }\n",
       "\n",
       "    .dataframe thead th {\n",
       "        text-align: right;\n",
       "    }\n",
       "</style>\n",
       "<table border=\"1\" class=\"dataframe\">\n",
       "  <thead>\n",
       "    <tr style=\"text-align: right;\">\n",
       "      <th></th>\n",
       "      <th>f1</th>\n",
       "      <th>accuracy</th>\n",
       "      <th>precision</th>\n",
       "      <th>recall</th>\n",
       "      <th>fitting_duration</th>\n",
       "    </tr>\n",
       "  </thead>\n",
       "  <tbody>\n",
       "    <tr>\n",
       "      <th>0</th>\n",
       "      <td>0.023963</td>\n",
       "      <td>0.015015</td>\n",
       "      <td>0.395937</td>\n",
       "      <td>0.012804</td>\n",
       "      <td>0.291657</td>\n",
       "    </tr>\n",
       "  </tbody>\n",
       "</table>\n",
       "</div>"
      ],
      "text/plain": [
       "         f1  accuracy  precision    recall  fitting_duration\n",
       "0  0.023963  0.015015   0.395937  0.012804          0.291657"
      ]
     },
     "execution_count": 35,
     "metadata": {},
     "output_type": "execute_result"
    }
   ],
   "source": [
    "MultinomialNB_scores_moc"
   ]
  },
  {
   "cell_type": "markdown",
   "id": "f55829cf",
   "metadata": {},
   "source": [
    "### Logistic regression"
   ]
  },
  {
   "cell_type": "code",
   "execution_count": 36,
   "id": "7ef17c02",
   "metadata": {},
   "outputs": [],
   "source": [
    "from sklearn.linear_model import LogisticRegression\n",
    "from sklearn.multioutput import MultiOutputClassifier\n",
    "clf = MultiOutputClassifier(LogisticRegression(max_iter=500,tol=1e-5),n_jobs=-1)\n",
    "start = time.time()\n",
    "clf.fit(X_train,y_train)\n",
    "end = time.time()"
   ]
  },
  {
   "cell_type": "code",
   "execution_count": 37,
   "id": "5b5100af",
   "metadata": {},
   "outputs": [],
   "source": [
    "prediction = clf.predict(X_test)"
   ]
  },
  {
   "cell_type": "code",
   "execution_count": 38,
   "id": "3bed7f5b",
   "metadata": {},
   "outputs": [],
   "source": [
    "f1 = []\n",
    "accuracy = []\n",
    "precision = []\n",
    "recall = []\n",
    "f1.append(f1_score(y_test,prediction,average='weighted'))\n",
    "accuracy.append(accuracy_score(y_test,prediction))\n",
    "precision.append(precision_score(y_test,prediction,average='weighted'))\n",
    "recall.append(recall_score(y_test,prediction,average='weighted'))\n",
    "Logistic_regression_scores_moc['f1']=f1\n",
    "Logistic_regression_scores_moc['accuracy']=accuracy\n",
    "Logistic_regression_scores_moc['precision']=precision\n",
    "Logistic_regression_scores_moc['recall'] = recall\n",
    "Logistic_regression_scores_moc['fitting_duration'] = end-start"
   ]
  },
  {
   "cell_type": "code",
   "execution_count": 39,
   "id": "2124e704",
   "metadata": {},
   "outputs": [
    {
     "data": {
      "text/html": [
       "<div>\n",
       "<style scoped>\n",
       "    .dataframe tbody tr th:only-of-type {\n",
       "        vertical-align: middle;\n",
       "    }\n",
       "\n",
       "    .dataframe tbody tr th {\n",
       "        vertical-align: top;\n",
       "    }\n",
       "\n",
       "    .dataframe thead th {\n",
       "        text-align: right;\n",
       "    }\n",
       "</style>\n",
       "<table border=\"1\" class=\"dataframe\">\n",
       "  <thead>\n",
       "    <tr style=\"text-align: right;\">\n",
       "      <th></th>\n",
       "      <th>f1</th>\n",
       "      <th>accuracy</th>\n",
       "      <th>precision</th>\n",
       "      <th>recall</th>\n",
       "      <th>fitting_duration</th>\n",
       "    </tr>\n",
       "  </thead>\n",
       "  <tbody>\n",
       "    <tr>\n",
       "      <th>0</th>\n",
       "      <td>0.490646</td>\n",
       "      <td>0.313484</td>\n",
       "      <td>0.812579</td>\n",
       "      <td>0.372998</td>\n",
       "      <td>7.38452</td>\n",
       "    </tr>\n",
       "  </tbody>\n",
       "</table>\n",
       "</div>"
      ],
      "text/plain": [
       "         f1  accuracy  precision    recall  fitting_duration\n",
       "0  0.490646  0.313484   0.812579  0.372998           7.38452"
      ]
     },
     "execution_count": 39,
     "metadata": {},
     "output_type": "execute_result"
    }
   ],
   "source": [
    "Logistic_regression_scores_moc"
   ]
  },
  {
   "cell_type": "code",
   "execution_count": null,
   "id": "dc269c24",
   "metadata": {},
   "outputs": [],
   "source": []
  }
 ],
 "metadata": {
  "kernelspec": {
   "display_name": "Python 3 (ipykernel)",
   "language": "python",
   "name": "python3"
  },
  "language_info": {
   "codemirror_mode": {
    "name": "ipython",
    "version": 3
   },
   "file_extension": ".py",
   "mimetype": "text/x-python",
   "name": "python",
   "nbconvert_exporter": "python",
   "pygments_lexer": "ipython3",
   "version": "3.9.7"
  }
 },
 "nbformat": 4,
 "nbformat_minor": 5
}
