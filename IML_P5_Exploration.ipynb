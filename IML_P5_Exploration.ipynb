{
 "cells": [
  {
   "cell_type": "code",
   "execution_count": 1,
   "id": "fab697c4",
   "metadata": {},
   "outputs": [],
   "source": [
    "#import bibliotheques python\n",
    "import pandas as pd\n",
    "import nltk\n",
    "import matplotlib.pyplot as plt\n",
    "import numpy as np\n",
    "import joblib"
   ]
  },
  {
   "cell_type": "markdown",
   "id": "b9bb91c8",
   "metadata": {},
   "source": [
    "# Loading row Data"
   ]
  },
  {
   "cell_type": "code",
   "execution_count": 2,
   "id": "06ba91df",
   "metadata": {},
   "outputs": [
    {
     "data": {
      "text/html": [
       "<div>\n",
       "<style scoped>\n",
       "    .dataframe tbody tr th:only-of-type {\n",
       "        vertical-align: middle;\n",
       "    }\n",
       "\n",
       "    .dataframe tbody tr th {\n",
       "        vertical-align: top;\n",
       "    }\n",
       "\n",
       "    .dataframe thead th {\n",
       "        text-align: right;\n",
       "    }\n",
       "</style>\n",
       "<table border=\"1\" class=\"dataframe\">\n",
       "  <thead>\n",
       "    <tr style=\"text-align: right;\">\n",
       "      <th></th>\n",
       "      <th>Id</th>\n",
       "      <th>Body</th>\n",
       "      <th>Title</th>\n",
       "      <th>Tags</th>\n",
       "    </tr>\n",
       "  </thead>\n",
       "  <tbody>\n",
       "    <tr>\n",
       "      <th>0</th>\n",
       "      <td>4</td>\n",
       "      <td>&lt;p&gt;I want to use a &lt;code&gt;Track-Bar&lt;/code&gt; to c...</td>\n",
       "      <td>How to convert a Decimal to a Double in C#?</td>\n",
       "      <td>&lt;c#&gt;&lt;floating-point&gt;&lt;type-conversion&gt;&lt;double&gt;&lt;...</td>\n",
       "    </tr>\n",
       "    <tr>\n",
       "      <th>1</th>\n",
       "      <td>9</td>\n",
       "      <td>&lt;p&gt;Given a &lt;code&gt;DateTime&lt;/code&gt; representing ...</td>\n",
       "      <td>How do I calculate someone's age based on a Da...</td>\n",
       "      <td>&lt;c#&gt;&lt;.net&gt;&lt;datetime&gt;</td>\n",
       "    </tr>\n",
       "    <tr>\n",
       "      <th>2</th>\n",
       "      <td>11</td>\n",
       "      <td>&lt;p&gt;Given a specific &lt;code&gt;DateTime&lt;/code&gt; valu...</td>\n",
       "      <td>Calculate relative time in C#</td>\n",
       "      <td>&lt;c#&gt;&lt;datetime&gt;&lt;time&gt;&lt;datediff&gt;&lt;relative-time-s...</td>\n",
       "    </tr>\n",
       "    <tr>\n",
       "      <th>3</th>\n",
       "      <td>16</td>\n",
       "      <td>&lt;p&gt;How do you expose a LINQ query as an ASMX w...</td>\n",
       "      <td>Filling a DataSet or a DataTable from a LINQ q...</td>\n",
       "      <td>&lt;c#&gt;&lt;linq&gt;&lt;web-services&gt;&lt;.net-3.5&gt;</td>\n",
       "    </tr>\n",
       "    <tr>\n",
       "      <th>4</th>\n",
       "      <td>17</td>\n",
       "      <td>&lt;p&gt;How do I store binary data in &lt;a href=\"http...</td>\n",
       "      <td>Binary Data in MySQL</td>\n",
       "      <td>&lt;mysql&gt;&lt;database&gt;&lt;binary-data&gt;&lt;data-storage&gt;</td>\n",
       "    </tr>\n",
       "  </tbody>\n",
       "</table>\n",
       "</div>"
      ],
      "text/plain": [
       "   Id                                               Body  \\\n",
       "0   4  <p>I want to use a <code>Track-Bar</code> to c...   \n",
       "1   9  <p>Given a <code>DateTime</code> representing ...   \n",
       "2  11  <p>Given a specific <code>DateTime</code> valu...   \n",
       "3  16  <p>How do you expose a LINQ query as an ASMX w...   \n",
       "4  17  <p>How do I store binary data in <a href=\"http...   \n",
       "\n",
       "                                               Title  \\\n",
       "0        How to convert a Decimal to a Double in C#?   \n",
       "1  How do I calculate someone's age based on a Da...   \n",
       "2                      Calculate relative time in C#   \n",
       "3  Filling a DataSet or a DataTable from a LINQ q...   \n",
       "4                               Binary Data in MySQL   \n",
       "\n",
       "                                                Tags  \n",
       "0  <c#><floating-point><type-conversion><double><...  \n",
       "1                               <c#><.net><datetime>  \n",
       "2  <c#><datetime><time><datediff><relative-time-s...  \n",
       "3                 <c#><linq><web-services><.net-3.5>  \n",
       "4       <mysql><database><binary-data><data-storage>  "
      ]
     },
     "execution_count": 2,
     "metadata": {},
     "output_type": "execute_result"
    }
   ],
   "source": [
    "Data = pd.read_csv('/home/abdifatah/Ingenieur_Machine_Learning/QueryResults_3.csv',sep=',')\n",
    "Data.head(5)"
   ]
  },
  {
   "cell_type": "markdown",
   "id": "89225688",
   "metadata": {},
   "source": [
    "# Tokenization"
   ]
  },
  {
   "cell_type": "code",
   "execution_count": 3,
   "id": "f8c23d0f",
   "metadata": {},
   "outputs": [],
   "source": [
    "def Tokenization(text):\n",
    "    x = []\n",
    "    tokenizer = nltk.RegexpTokenizer(r'\\w+')\n",
    "    for row in text:\n",
    "        x.append(tokenizer.tokenize(row))\n",
    "    return x"
   ]
  },
  {
   "cell_type": "code",
   "execution_count": 4,
   "id": "26d7dbc6",
   "metadata": {},
   "outputs": [],
   "source": [
    "Body = Data.Body\n",
    "Title = Data.Title\n",
    "Tags = Data.Tags\n",
    "\n",
    "tkz_Body = Tokenization(Body)\n",
    "tkz_Tags = Tokenization(Tags)\n",
    "tkz_Title = Tokenization(Title)"
   ]
  },
  {
   "cell_type": "markdown",
   "id": "937db396",
   "metadata": {},
   "source": [
    "# Variable Exploration"
   ]
  },
  {
   "cell_type": "code",
   "execution_count": 8,
   "id": "55ece024",
   "metadata": {},
   "outputs": [],
   "source": [
    "def text_caracteristics(texte):\n",
    "    nb_word = []\n",
    "    max_nb_word = 0\n",
    "    min_nb_word = 0\n",
    "    mean_nb_word = 0\n",
    "    for i in range(len(texte)):\n",
    "        nb_word.append(len(texte[i]))\n",
    "    max_nb_word=max(nb_word)\n",
    "    min_nb_word=min(nb_word)\n",
    "    mean_nb_word= sum(nb_word)/len(nb_word)\n",
    "    return (max_nb_word,min_nb_word,mean_nb_word)"
   ]
  },
  {
   "cell_type": "markdown",
   "id": "9a17ccf4",
   "metadata": {},
   "source": [
    "# Body"
   ]
  },
  {
   "cell_type": "code",
   "execution_count": 15,
   "id": "02fddd4f",
   "metadata": {},
   "outputs": [
    {
     "name": "stdout",
     "output_type": "stream",
     "text": [
      "mean number of words:  117.7445 .  max number of words :  5300 .  min number of words :  5\n"
     ]
    }
   ],
   "source": [
    "(max_nb_word ,min_nb_word, mean_nb_word) = text_caracteristics(tkz_Body)\n",
    "print('mean number of words: ',mean_nb_word,'.',' max number of words : ' ,max_nb_word,'.',' min number of words : ',min_nb_word)"
   ]
  },
  {
   "cell_type": "markdown",
   "id": "5c764c17",
   "metadata": {},
   "source": [
    "# Title"
   ]
  },
  {
   "cell_type": "code",
   "execution_count": 16,
   "id": "4cc30b83",
   "metadata": {},
   "outputs": [
    {
     "name": "stdout",
     "output_type": "stream",
     "text": [
      "mean number of words:  8.57162 .  max number of words :  33 .  min number of words :  1\n"
     ]
    }
   ],
   "source": [
    "(max_nb_word ,min_nb_word, mean_nb_word) = text_caracteristics(tkz_Title)\n",
    "print('mean number of words: ',mean_nb_word,'.',' max number of words : ' ,max_nb_word,'.',' min number of words : ',min_nb_word)"
   ]
  },
  {
   "cell_type": "markdown",
   "id": "6f2ac7b6",
   "metadata": {},
   "source": [
    "# Tags"
   ]
  },
  {
   "cell_type": "code",
   "execution_count": 17,
   "id": "b5ac2513",
   "metadata": {},
   "outputs": [
    {
     "name": "stdout",
     "output_type": "stream",
     "text": [
      "mean number of words:  3.70784 .  max number of words :  17 .  min number of words :  1\n"
     ]
    }
   ],
   "source": [
    "(max_nb_word ,min_nb_word, mean_nb_word) = text_caracteristics(tkz_Tags)\n",
    "print('mean number of words: ',mean_nb_word,'.',' max number of words : ' ,max_nb_word,'.',' min number of words : ',min_nb_word)"
   ]
  },
  {
   "cell_type": "markdown",
   "id": "6c10dd99",
   "metadata": {},
   "source": [
    "# Words Frequency"
   ]
  },
  {
   "cell_type": "code",
   "execution_count": 21,
   "id": "29cfdc5b",
   "metadata": {},
   "outputs": [],
   "source": [
    "all_words_Body = []\n",
    "for i in range(len(tkz_Body)):\n",
    "    for j in range(len(tkz_Body[i])):\n",
    "        all_words_Body.append(tkz_Body[i][j])\n",
    "all_words_Title = []\n",
    "for i in range(len(tkz_Title)):\n",
    "    for j in range(len(tkz_Title[i])):\n",
    "        all_words_Title.append(tkz_Title[i][j])\n",
    "        \n",
    "all_words_Tags = []\n",
    "for i in range(len(tkz_Tags)):\n",
    "    for j in range(len(tkz_Tags[i])):\n",
    "        all_words_Tags.append(tkz_Tags[i][j])\n",
    "        \n",
    "\n",
    "all_words_Body_df = pd.DataFrame()\n",
    "all_words_Title_df = pd.DataFrame()\n",
    "all_words_Tags_df = pd.DataFrame()\n",
    "all_words_Body_df['Body_words'] = all_words_Body\n",
    "all_words_Title_df['Body_words'] = all_words_Title\n",
    "all_words_Tags_df['Tags_words'] = all_words_Tags"
   ]
  },
  {
   "cell_type": "code",
   "execution_count": 33,
   "id": "ca0f379c",
   "metadata": {},
   "outputs": [
    {
     "data": {
      "image/png": "[encoded data removed]",
      "text/plain": [
       "<Figure size 1800x1080 with 1 Axes>"
      ]
     },
     "metadata": {
      "needs_background": "light"
     },
     "output_type": "display_data"
    }
   ],
   "source": [
    "# caractéristique de la courbe\n",
    "fig = plt.figure(figsize = (25,15))\n",
    "ax1 = plt.subplot()\n",
    "# histogramme\n",
    "ax1 = all_words_Body_df.text_words.value_counts().sort_values(ascending=False)[0:50].plot(kind='bar',color=\"C1\")\n",
    "plt.xticks(rotation=90)\n",
    "# couleurs\n",
    "ax1.tick_params(axis=\"y\", colors=\"C0\")\n",
    "# Annotations\n",
    "plt.xticks(rotation=90)\n",
    "plt.show()"
   ]
  },
  {
   "cell_type": "code",
   "execution_count": null,
   "id": "6d3a4cf6",
   "metadata": {},
   "outputs": [],
   "source": [
    "# caractéristique de la courbe\n",
    "fig = plt.figure(figsize = (25,15))\n",
    "ax1 = plt.subplot()\n",
    "# histogramme\n",
    "ax1 = all_words_Body_df.text_words.value_counts().sort_values(ascending=False)[0:50].plot(kind='bar',color=\"C1\")\n",
    "plt.xticks(rotation=90)\n",
    "# couleurs\n",
    "ax1.tick_params(axis=\"y\", colors=\"C0\")\n",
    "# Annotations\n",
    "plt.xticks(rotation=90)\n",
    "plt.show()"
   ]
  },
  {
   "cell_type": "code",
   "execution_count": 34,
   "id": "98ab0737",
   "metadata": {},
   "outputs": [
    {
     "data": {
      "image/png": "[encoded data removed]",
      "text/plain": [
       "<Figure size 1800x1080 with 1 Axes>"
      ]
     },
     "metadata": {
      "needs_background": "light"
     },
     "output_type": "display_data"
    }
   ],
   "source": [
    "# caractéristique de la courbe\n",
    "fig = plt.figure(figsize = (25,15))\n",
    "ax1 = plt.subplot()\n",
    "# histogramme\n",
    "ax1 = all_words_Tags_df.Tags_words.value_counts().sort_values(ascending=False)[0:50].plot(kind='bar',color=\"C1\")\n",
    "plt.xticks(rotation=90)\n",
    "# couleurs\n",
    "ax1.tick_params(axis=\"y\", colors=\"C0\")\n",
    "# Annotations\n",
    "plt.xticks(rotation=90)\n",
    "plt.show()"
   ]
  },
  {
   "cell_type": "code",
   "execution_count": null,
   "id": "1b37b72d",
   "metadata": {},
   "outputs": [],
   "source": []
  }
 ],
 "metadata": {
  "kernelspec": {
   "display_name": "Python 3 (ipykernel)",
   "language": "python",
   "name": "python3"
  },
  "language_info": {
   "codemirror_mode": {
    "name": "ipython",
    "version": 3
   },
   "file_extension": ".py",
   "mimetype": "text/x-python",
   "name": "python",
   "nbconvert_exporter": "python",
   "pygments_lexer": "ipython3",
   "version": "3.9.7"
  }
 },
 "nbformat": 4,
 "nbformat_minor": 5
}
